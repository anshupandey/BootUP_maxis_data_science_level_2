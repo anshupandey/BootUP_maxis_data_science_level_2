{
  "nbformat": 4,
  "nbformat_minor": 0,
  "metadata": {
    "colab": {
      "name": "Lab_environment.ipynb",
      "provenance": [],
      "collapsed_sections": []
    },
    "language_info": {
      "codemirror_mode": {
        "name": "ipython",
        "version": 3
      },
      "file_extension": ".py",
      "mimetype": "text/x-python",
      "name": "python",
      "nbconvert_exporter": "python",
      "pygments_lexer": "ipython3",
      "version": "3.6.5"
    },
    "kernelspec": {
      "display_name": "Python 3",
      "language": "python",
      "name": "python3"
    }
  },
  "cells": [
    {
      "cell_type": "markdown",
      "metadata": {
        "id": "qJoeN3e8_Gzk"
      },
      "source": [
        "# Chicago Crime Data Investigation using PySpark"
      ]
    },
    {
      "cell_type": "markdown",
      "metadata": {
        "id": "Dd6t0uFzuR4X"
      },
      "source": [
        "## Install Spark"
      ]
    },
    {
      "cell_type": "code",
      "metadata": {
        "id": "tt7ZS1_wGgjn",
        "outputId": "70cd29f7-8c7d-4f6d-d3d2-3378e5c00cdb",
        "colab": {
          "base_uri": "https://localhost:8080/",
          "height": 468
        }
      },
      "source": [
        "!apt-get update\n",
        "!apt-get install openjdk-8-jdk-headless -qq > /dev/null\n",
        "!wget -q http://archive.apache.org/dist/spark/spark-2.3.1/spark-2.3.1-bin-hadoop2.7.tgz\n",
        "!tar xf spark-2.3.1-bin-hadoop2.7.tgz\n",
        "!pip install -q findspark"
      ],
      "execution_count": 1,
      "outputs": [
        {
          "output_type": "stream",
          "text": [
            "\r0% [Working]\r            \rIgn:1 https://developer.download.nvidia.com/compute/cuda/repos/ubuntu1804/x86_64  InRelease\n",
            "\r0% [Connecting to archive.ubuntu.com (91.189.88.152)] [Waiting for headers] [Co\r                                                                               \rGet:2 http://security.ubuntu.com/ubuntu bionic-security InRelease [88.7 kB]\n",
            "\r0% [Connecting to archive.ubuntu.com (91.189.88.152)] [2 InRelease 2,586 B/88.7\r                                                                               \rIgn:3 https://developer.download.nvidia.com/compute/machine-learning/repos/ubuntu1804/x86_64  InRelease\n",
            "\r0% [Connecting to archive.ubuntu.com (91.189.88.152)] [2 InRelease 14.2 kB/88.7\r                                                                               \rGet:4 https://developer.download.nvidia.com/compute/cuda/repos/ubuntu1804/x86_64  Release [697 B]\n",
            "\r0% [Connecting to archive.ubuntu.com (91.189.88.152)] [2 InRelease 14.2 kB/88.7\r0% [Connecting to archive.ubuntu.com (91.189.88.152)] [2 InRelease 14.2 kB/88.7\r                                                                               \rGet:5 https://developer.download.nvidia.com/compute/machine-learning/repos/ubuntu1804/x86_64  Release [564 B]\n",
            "\r0% [Connecting to archive.ubuntu.com (91.189.88.152)] [2 InRelease 14.2 kB/88.7\r0% [Connecting to archive.ubuntu.com (91.189.88.152)] [2 InRelease 14.2 kB/88.7\r                                                                               \rGet:6 https://developer.download.nvidia.com/compute/cuda/repos/ubuntu1804/x86_64  Release.gpg [836 B]\n",
            "Get:7 https://developer.download.nvidia.com/compute/machine-learning/repos/ubuntu1804/x86_64  Release.gpg [833 B]\n",
            "Hit:8 http://ppa.launchpad.net/graphics-drivers/ppa/ubuntu bionic InRelease\n",
            "Get:9 https://cloud.r-project.org/bin/linux/ubuntu bionic-cran35/ InRelease [3,626 B]\n",
            "Hit:10 http://archive.ubuntu.com/ubuntu bionic InRelease\n",
            "Ign:11 https://developer.download.nvidia.com/compute/cuda/repos/ubuntu1804/x86_64  Packages\n",
            "Get:11 https://developer.download.nvidia.com/compute/cuda/repos/ubuntu1804/x86_64  Packages [306 kB]\n",
            "Get:12 http://archive.ubuntu.com/ubuntu bionic-updates InRelease [88.7 kB]\n",
            "Get:13 http://ppa.launchpad.net/marutter/c2d4u3.5/ubuntu bionic InRelease [15.4 kB]\n",
            "Get:14 https://developer.download.nvidia.com/compute/machine-learning/repos/ubuntu1804/x86_64  Packages [47.9 kB]\n",
            "Get:15 http://archive.ubuntu.com/ubuntu bionic-backports InRelease [74.6 kB]\n",
            "Get:16 http://security.ubuntu.com/ubuntu bionic-security/restricted amd64 Packages [126 kB]\n",
            "Get:17 http://security.ubuntu.com/ubuntu bionic-security/universe amd64 Packages [908 kB]\n",
            "Get:18 http://security.ubuntu.com/ubuntu bionic-security/main amd64 Packages [1,115 kB]\n",
            "Get:19 http://ppa.launchpad.net/marutter/c2d4u3.5/ubuntu bionic/main Sources [1,879 kB]\n",
            "Get:20 http://archive.ubuntu.com/ubuntu bionic-updates/restricted amd64 Packages [146 kB]\n",
            "Get:21 http://archive.ubuntu.com/ubuntu bionic-updates/main amd64 Packages [1,406 kB]\n",
            "Get:22 http://archive.ubuntu.com/ubuntu bionic-updates/universe amd64 Packages [1,435 kB]\n",
            "Get:23 http://archive.ubuntu.com/ubuntu bionic-updates/multiverse amd64 Packages [33.9 kB]\n",
            "Get:24 http://ppa.launchpad.net/marutter/c2d4u3.5/ubuntu bionic/main amd64 Packages [907 kB]\n",
            "Fetched 8,583 kB in 4s (2,099 kB/s)\n",
            "Reading package lists... Done\n"
          ],
          "name": "stdout"
        }
      ]
    },
    {
      "cell_type": "code",
      "metadata": {
        "id": "sdOOq4twHN1K"
      },
      "source": [
        "# Seetting up the paths\n",
        "import os\n",
        "os.environ[\"JAVA_HOME\"] = \"/usr/lib/jvm/java-8-openjdk-amd64\"\n",
        "os.environ[\"SPARK_HOME\"] = \"/content/spark-2.3.1-bin-hadoop2.7\""
      ],
      "execution_count": 2,
      "outputs": []
    },
    {
      "cell_type": "code",
      "metadata": {
        "id": "3ACYMwhgHTYz",
        "outputId": "ce7c17a8-0611-48bb-e4bf-97196f4f9fda",
        "colab": {
          "base_uri": "https://localhost:8080/",
          "height": 87
        }
      },
      "source": [
        "# check the list of files and folders in the current dorectory\n"
      ],
      "execution_count": null,
      "outputs": [
        {
          "output_type": "stream",
          "text": [
            "international-airline-passengers.csv  spark-2.3.1-bin-hadoop2.7.tgz\n",
            "reported-crimes.csv\t\t      spark-2.3.1-bin-hadoop2.7.tgz.1\n",
            "sample_data\t\t\t      spark-warehouse\n",
            "spark-2.3.1-bin-hadoop2.7\n"
          ],
          "name": "stdout"
        }
      ]
    },
    {
      "cell_type": "code",
      "metadata": {
        "id": "wjfF7LLgHZe3",
        "outputId": "af8e5726-4d77-4383-fdf4-5df5fc6fcc79",
        "colab": {
          "base_uri": "https://localhost:8080/",
          "height": 190
        }
      },
      "source": [
        "# import findspark and checking out how to create a spark session\n",
        "import findspark\n",
        "findspark.init()\n",
        "from pyspark import SparkContext\n",
        "\n",
        "sc = SparkContext.getOrCreate()\n",
        "sc"
      ],
      "execution_count": 3,
      "outputs": [
        {
          "output_type": "execute_result",
          "data": {
            "text/html": [
              "\n",
              "        <div>\n",
              "            <p><b>SparkContext</b></p>\n",
              "\n",
              "            <p><a href=\"http://f4392e282e58:4040\">Spark UI</a></p>\n",
              "\n",
              "            <dl>\n",
              "              <dt>Version</dt>\n",
              "                <dd><code>v2.3.1</code></dd>\n",
              "              <dt>Master</dt>\n",
              "                <dd><code>local[*]</code></dd>\n",
              "              <dt>AppName</dt>\n",
              "                <dd><code>pyspark-shell</code></dd>\n",
              "            </dl>\n",
              "        </div>\n",
              "        "
            ],
            "text/plain": [
              "<SparkContext master=local[*] appName=pyspark-shell>"
            ]
          },
          "metadata": {
            "tags": []
          },
          "execution_count": 3
        }
      ]
    },
    {
      "cell_type": "code",
      "metadata": {
        "id": "Gs7fzvxcHfvw",
        "outputId": "6f2f6156-00bf-48fa-8624-9b3f1d601534",
        "colab": {
          "base_uri": "https://localhost:8080/",
          "height": 214
        }
      },
      "source": [
        "import pyspark\n",
        "from pyspark.sql import SparkSession\n",
        "spark = SparkSession.builder.getOrCreate() \n",
        "spark"
      ],
      "execution_count": 4,
      "outputs": [
        {
          "output_type": "execute_result",
          "data": {
            "text/html": [
              "\n",
              "            <div>\n",
              "                <p><b>SparkSession - in-memory</b></p>\n",
              "                \n",
              "        <div>\n",
              "            <p><b>SparkContext</b></p>\n",
              "\n",
              "            <p><a href=\"http://f4392e282e58:4040\">Spark UI</a></p>\n",
              "\n",
              "            <dl>\n",
              "              <dt>Version</dt>\n",
              "                <dd><code>v2.3.1</code></dd>\n",
              "              <dt>Master</dt>\n",
              "                <dd><code>local[*]</code></dd>\n",
              "              <dt>AppName</dt>\n",
              "                <dd><code>pyspark-shell</code></dd>\n",
              "            </dl>\n",
              "        </div>\n",
              "        \n",
              "            </div>\n",
              "        "
            ],
            "text/plain": [
              "<pyspark.sql.session.SparkSession at 0x7f4f4cbb1128>"
            ]
          },
          "metadata": {
            "tags": []
          },
          "execution_count": 4
        }
      ]
    },
    {
      "cell_type": "markdown",
      "metadata": {
        "id": "gZV3c8mF4MaA"
      },
      "source": [
        "## Downloading and preprocessing Chicago's Reported Crime Data"
      ]
    },
    {
      "cell_type": "code",
      "metadata": {
        "id": "We2yp-o7Hgu9"
      },
      "source": [
        "!wget -q https://data.cityofchicago.org/api/views/qzdf-xmn8/rows.csv?accessType=DOWNLOAD"
      ],
      "execution_count": 5,
      "outputs": []
    },
    {
      "cell_type": "code",
      "metadata": {
        "id": "QdrFO3yrwptm",
        "outputId": "fb437e14-af86-40c0-deb2-c0c41e1f6d85",
        "colab": {
          "base_uri": "https://localhost:8080/",
          "height": 50
        }
      },
      "source": [
        "# check all the files in the directory\n",
        "!ls"
      ],
      "execution_count": 6,
      "outputs": [
        {
          "output_type": "stream",
          "text": [
            "'rows.csv?accessType=DOWNLOAD'\t spark-2.3.1-bin-hadoop2.7\n",
            " sample_data\t\t\t spark-2.3.1-bin-hadoop2.7.tgz\n"
          ],
          "name": "stdout"
        }
      ]
    },
    {
      "cell_type": "code",
      "metadata": {
        "id": "BIXepui355t2"
      },
      "source": [
        "# rename the file to something simple\n",
        "!mv rows.csv\\?accessType\\=DOWNLOAD reported-crimes.csv"
      ],
      "execution_count": 8,
      "outputs": []
    },
    {
      "cell_type": "code",
      "metadata": {
        "id": "XvEC3Awl6Iur",
        "outputId": "680a1a7f-615a-480f-a111-84878bdae088",
        "colab": {
          "base_uri": "https://localhost:8080/",
          "height": 50
        }
      },
      "source": [
        "# check all the files in the directory\n",
        "!ls"
      ],
      "execution_count": 9,
      "outputs": [
        {
          "output_type": "stream",
          "text": [
            "reported-crimes.csv  spark-2.3.1-bin-hadoop2.7\n",
            "sample_data\t     spark-2.3.1-bin-hadoop2.7.tgz\n"
          ],
          "name": "stdout"
        }
      ]
    },
    {
      "cell_type": "code",
      "metadata": {
        "id": "DItM9k7P6JqG"
      },
      "source": [
        "# loading data as a dataframe\n",
        "from pyspark.sql.functions import to_timestamp,col,lit\n",
        "rc = spark.read.csv('reported-crimes.csv',header=True).withColumn('Date',to_timestamp(col('Date'),'MM/dd/yyyy hh:mm:ss a')).filter(col('Date') <= lit('2020-09-01'))"
      ],
      "execution_count": 11,
      "outputs": []
    },
    {
      "cell_type": "code",
      "metadata": {
        "id": "qiRDanNv9Q-O",
        "outputId": "d93909aa-12fa-4777-a63b-900b2043b40e",
        "colab": {
          "base_uri": "https://localhost:8080/",
          "height": 221
        }
      },
      "source": [
        "# lets check the top five rows\n"
      ],
      "execution_count": 13,
      "outputs": [
        {
          "output_type": "stream",
          "text": [
            "+--------+-----------+-------------------+-------------------+----+--------------------+--------------------+--------------------+------+--------+----+--------+----+--------------+--------+------------+------------+----+--------------------+------------+-------------+--------------------+\n",
            "|      ID|Case Number|               Date|              Block|IUCR|        Primary Type|         Description|Location Description|Arrest|Domestic|Beat|District|Ward|Community Area|FBI Code|X Coordinate|Y Coordinate|Year|          Updated On|    Latitude|    Longitude|            Location|\n",
            "+--------+-----------+-------------------+-------------------+----+--------------------+--------------------+--------------------+------+--------+----+--------+----+--------------+--------+------------+------------+----+--------------------+------------+-------------+--------------------+\n",
            "|12175466|   JD378561|2020-07-01 00:00:00| 050XX N SAWYER AVE|1156|  DECEPTIVE PRACTICE|ATTEMPT - FINANCI...|           APARTMENT| false|   false|1713|     017|  33|            14|      11|     1153801|     1933294|2020|09/27/2020 03:48:...|41.972796668|-87.709821452|(41.972796668, -8...|\n",
            "|12174997|   JD377844|2020-08-10 12:00:00| 046XX N HAMLIN AVE|0810|               THEFT|           OVER $500|  RESIDENCE - GARAGE| false|   false|1723|     017|  35|            14|      06|     1150217|     1930714|2020|09/27/2020 03:48:...|41.965787798|-87.723068208|(41.965787798, -8...|\n",
            "|12176998|   JD380079|2020-08-29 12:50:00|036XX N ASHLAND AVE|0820|               THEFT|      $500 AND UNDER|     OTHER (SPECIFY)| false|   false|1922|     019|  44|             6|      06|        null|        null|2020|09/27/2020 03:50:...|        null|         null|                null|\n",
            "|12175210|   JD378178|2020-07-24 03:00:00|    007XX W 61ST ST|0460|             BATTERY|              SIMPLE|           RESIDENCE| false|   false|0711|     007|  16|            68|     08B|     1172440|     1864420|2020|09/27/2020 03:48:...|41.783409097|-87.643318555|(41.783409097, -8...|\n",
            "|12160753|   JD361671|2020-08-22 00:00:00|    029XX W 19TH ST|1750|OFFENSE INVOLVING...|         CHILD ABUSE|SCHOOL - PRIVATE ...| false|   false|1022|     010|  24|            30|     08B|     1156867|     1890571|2020|09/27/2020 03:48:...|41.855499507|-87.699707748|(41.855499507, -8...|\n",
            "+--------+-----------+-------------------+-------------------+----+--------------------+--------------------+--------------------+------+--------+----+--------+----+--------------+--------+------------+------------+----+--------------------+------------+-------------+--------------------+\n",
            "only showing top 5 rows\n",
            "\n"
          ],
          "name": "stdout"
        }
      ]
    },
    {
      "cell_type": "markdown",
      "metadata": {
        "id": "5PeEgYvp6xyw"
      },
      "source": [
        "## Working with columns"
      ]
    },
    {
      "cell_type": "markdown",
      "metadata": {
        "id": "Yb6kU5Be66eS"
      },
      "source": [
        "**Display only the first 5 rows of the column name IUCR **"
      ]
    },
    {
      "cell_type": "code",
      "metadata": {
        "id": "hnB1BC0M61sV",
        "outputId": "58b7e75f-9ae2-4ca8-cdc0-ba62b5c38e8c",
        "colab": {
          "base_uri": "https://localhost:8080/",
          "height": 208
        }
      },
      "source": [
        ""
      ],
      "execution_count": null,
      "outputs": [
        {
          "output_type": "stream",
          "text": [
            "+----+\n",
            "|IUCR|\n",
            "+----+\n",
            "|0486|\n",
            "|0496|\n",
            "|0486|\n",
            "|1310|\n",
            "|0486|\n",
            "+----+\n",
            "only showing top 5 rows\n",
            "\n"
          ],
          "name": "stdout"
        }
      ]
    },
    {
      "cell_type": "code",
      "metadata": {
        "id": "vbfpCxK47Acy",
        "outputId": "eaf7f666-b584-4905-cc00-a71097bc996e",
        "colab": {
          "base_uri": "https://localhost:8080/",
          "height": 208
        }
      },
      "source": [
        ""
      ],
      "execution_count": null,
      "outputs": [
        {
          "output_type": "stream",
          "text": [
            "+----+\n",
            "|IUCR|\n",
            "+----+\n",
            "|0486|\n",
            "|0496|\n",
            "|0486|\n",
            "|1310|\n",
            "|0486|\n",
            "+----+\n",
            "only showing top 5 rows\n",
            "\n"
          ],
          "name": "stdout"
        }
      ]
    },
    {
      "cell_type": "markdown",
      "metadata": {
        "id": "63J8kGFw7BB9"
      },
      "source": [
        "  **Display only the first 4 rows of the column names Case Number, Date and Arrest**"
      ]
    },
    {
      "cell_type": "code",
      "metadata": {
        "id": "VxvArTuT7BxX",
        "outputId": "2d705378-3a94-4442-80eb-06379ca116ea",
        "colab": {
          "base_uri": "https://localhost:8080/",
          "height": 208
        }
      },
      "source": [
        ""
      ],
      "execution_count": null,
      "outputs": [
        {
          "output_type": "stream",
          "text": [
            "+-----------+-------------------+------+\n",
            "|Case Number|               Date|Arrest|\n",
            "+-----------+-------------------+------+\n",
            "|   JC207122|2019-03-31 23:51:00| false|\n",
            "|   JC207126|2019-03-31 23:50:00|  true|\n",
            "|   JC207120|2019-03-31 23:47:00| false|\n",
            "|   JC207203|2019-03-31 23:45:00| false|\n",
            "|   JC207116|2019-03-31 23:40:00| false|\n",
            "+-----------+-------------------+------+\n",
            "only showing top 5 rows\n",
            "\n"
          ],
          "name": "stdout"
        }
      ]
    },
    {
      "cell_type": "code",
      "metadata": {
        "id": "Af2-F10x7CgW",
        "outputId": "3fb8944e-8340-46ed-9c20-79f67f9e898e",
        "colab": {
          "base_uri": "https://localhost:8080/",
          "height": 208
        }
      },
      "source": [
        ""
      ],
      "execution_count": null,
      "outputs": [
        {
          "output_type": "stream",
          "text": [
            "+-----------+-------------------+------+\n",
            "|Case Number|               Date|Arrest|\n",
            "+-----------+-------------------+------+\n",
            "|   JC207122|2019-03-31 23:51:00| false|\n",
            "|   JC207126|2019-03-31 23:50:00|  true|\n",
            "|   JC207120|2019-03-31 23:47:00| false|\n",
            "|   JC207203|2019-03-31 23:45:00| false|\n",
            "|   JC207116|2019-03-31 23:40:00| false|\n",
            "+-----------+-------------------+------+\n",
            "only showing top 5 rows\n",
            "\n"
          ],
          "name": "stdout"
        }
      ]
    },
    {
      "cell_type": "markdown",
      "metadata": {
        "id": "S-wQQZAv7GZA"
      },
      "source": [
        "** Add a column with name One, with entries all 1s **"
      ]
    },
    {
      "cell_type": "code",
      "metadata": {
        "id": "9u-M57iy7G87",
        "outputId": "ff73ce61-6058-47d6-f513-827aab85cec2",
        "colab": {
          "base_uri": "https://localhost:8080/",
          "height": 228
        }
      },
      "source": [
        "from pyspark.sql.functions import lit\n",
        "rc.withColumn('One',lit(1)).show(5)"
      ],
      "execution_count": null,
      "outputs": [
        {
          "output_type": "stream",
          "text": [
            "+--------+-----------+-------------------+--------------------+----+---------------+--------------------+--------------------+------+--------+----+--------+----+--------------+--------+------------+------------+----+--------------------+------------+-------------+--------------------+--------------------------+---------+---------------+-------------+-----+----------------------+----------------+------------+---+\n",
            "|      ID|Case Number|               Date|               Block|IUCR|   Primary Type|         Description|Location Description|Arrest|Domestic|Beat|District|Ward|Community Area|FBI Code|X Coordinate|Y Coordinate|Year|          Updated On|    Latitude|    Longitude|            Location|Historical Wards 2003-2015|Zip Codes|Community Areas|Census Tracts|Wards|Boundaries - ZIP Codes|Police Districts|Police Beats|One|\n",
            "+--------+-----------+-------------------+--------------------+----+---------------+--------------------+--------------------+------+--------+----+--------+----+--------------+--------+------------+------------+----+--------------------+------------+-------------+--------------------+--------------------------+---------+---------------+-------------+-----+----------------------+----------------+------------+---+\n",
            "|11640869|   JC207122|2019-03-31 23:51:00|    058XX W HURON ST|0486|        BATTERY|DOMESTIC BATTERY ...|           RESIDENCE| false|    true|1511|     015|  29|            25|     08B|     1137432|     1904052|2019|04/07/2019 04:05:...|41.892864608|-87.770719974|(41.892864608, -8...|                        52|    22216|             26|          672|    7|                    32|              25|          70|  1|\n",
            "|11640912|   JC207126|2019-03-31 23:50:00|     016XX W 44TH ST|0496|        BATTERY|AGGRAVATED DOMEST...|           APARTMENT|  true|    true|0924|     009|  15|            61|     04B|     1165945|     1875532|2019|04/07/2019 04:05:...|41.814042305|-87.666815552|(41.814042305, -8...|                        29|    14924|             59|          706|    3|                    37|              23|         108|  1|\n",
            "|11640852|   JC207120|2019-03-31 23:47:00|087XX S EXCHANGE AVE|0486|        BATTERY|DOMESTIC BATTERY ...|           RESIDENCE| false|    true|0423|     004|  10|            46|     08B|     1197282|     1847598|2019|04/07/2019 04:05:...|41.736665235|-87.552800507|(41.736665235, -8...|                        47|    21202|             42|          509|   47|                    25|              19|         238|  1|\n",
            "|11640896|   JC207203|2019-03-31 23:45:00|  091XX S HALSTED ST|1310|CRIMINAL DAMAGE|         TO PROPERTY|           RESIDENCE| false|   false|2223|     022|  21|            73|      14|     1172579|     1844322|2019|04/07/2019 04:05:...|41.728254593|-87.643399865|(41.728254593, -8...|                        18|    21554|             72|          151|   13|                    59|               9|         243|  1|\n",
            "|11640816|   JC207116|2019-03-31 23:40:00|008XX W SUNNYSIDE...|0486|        BATTERY|DOMESTIC BATTERY ...|           APARTMENT| false|    true|1914|     019|  46|             3|     08B|     1169808|     1930084|2019|04/07/2019 04:05:...|41.963653562|-87.651054693|(41.963653562, -8...|                        37|    22616|             31|           20|   39|                    15|               5|           4|  1|\n",
            "+--------+-----------+-------------------+--------------------+----+---------------+--------------------+--------------------+------+--------+----+--------+----+--------------+--------+------------+------------+----+--------------------+------------+-------------+--------------------+--------------------------+---------+---------------+-------------+-----+----------------------+----------------+------------+---+\n",
            "only showing top 5 rows\n",
            "\n"
          ],
          "name": "stdout"
        }
      ]
    },
    {
      "cell_type": "markdown",
      "metadata": {
        "id": "Izm0B7p67igh"
      },
      "source": [
        "** Remove the column IUCR **"
      ]
    },
    {
      "cell_type": "code",
      "metadata": {
        "id": "WPCBB0PL7jI_",
        "outputId": "bee1a773-150d-40f0-ed6c-facecf9acf72",
        "colab": {
          "base_uri": "https://localhost:8080/",
          "height": 228
        }
      },
      "source": [
        ""
      ],
      "execution_count": null,
      "outputs": [
        {
          "output_type": "stream",
          "text": [
            "+--------+-----------+-------------------+--------------------+---------------+--------------------+--------------------+------+--------+----+--------+----+--------------+--------+------------+------------+----+--------------------+------------+-------------+--------------------+--------------------------+---------+---------------+-------------+-----+----------------------+----------------+------------+\n",
            "|      ID|Case Number|               Date|               Block|   Primary Type|         Description|Location Description|Arrest|Domestic|Beat|District|Ward|Community Area|FBI Code|X Coordinate|Y Coordinate|Year|          Updated On|    Latitude|    Longitude|            Location|Historical Wards 2003-2015|Zip Codes|Community Areas|Census Tracts|Wards|Boundaries - ZIP Codes|Police Districts|Police Beats|\n",
            "+--------+-----------+-------------------+--------------------+---------------+--------------------+--------------------+------+--------+----+--------+----+--------------+--------+------------+------------+----+--------------------+------------+-------------+--------------------+--------------------------+---------+---------------+-------------+-----+----------------------+----------------+------------+\n",
            "|11640869|   JC207122|2019-03-31 23:51:00|    058XX W HURON ST|        BATTERY|DOMESTIC BATTERY ...|           RESIDENCE| false|    true|1511|     015|  29|            25|     08B|     1137432|     1904052|2019|04/07/2019 04:05:...|41.892864608|-87.770719974|(41.892864608, -8...|                        52|    22216|             26|          672|    7|                    32|              25|          70|\n",
            "|11640912|   JC207126|2019-03-31 23:50:00|     016XX W 44TH ST|        BATTERY|AGGRAVATED DOMEST...|           APARTMENT|  true|    true|0924|     009|  15|            61|     04B|     1165945|     1875532|2019|04/07/2019 04:05:...|41.814042305|-87.666815552|(41.814042305, -8...|                        29|    14924|             59|          706|    3|                    37|              23|         108|\n",
            "|11640852|   JC207120|2019-03-31 23:47:00|087XX S EXCHANGE AVE|        BATTERY|DOMESTIC BATTERY ...|           RESIDENCE| false|    true|0423|     004|  10|            46|     08B|     1197282|     1847598|2019|04/07/2019 04:05:...|41.736665235|-87.552800507|(41.736665235, -8...|                        47|    21202|             42|          509|   47|                    25|              19|         238|\n",
            "|11640896|   JC207203|2019-03-31 23:45:00|  091XX S HALSTED ST|CRIMINAL DAMAGE|         TO PROPERTY|           RESIDENCE| false|   false|2223|     022|  21|            73|      14|     1172579|     1844322|2019|04/07/2019 04:05:...|41.728254593|-87.643399865|(41.728254593, -8...|                        18|    21554|             72|          151|   13|                    59|               9|         243|\n",
            "|11640816|   JC207116|2019-03-31 23:40:00|008XX W SUNNYSIDE...|        BATTERY|DOMESTIC BATTERY ...|           APARTMENT| false|    true|1914|     019|  46|             3|     08B|     1169808|     1930084|2019|04/07/2019 04:05:...|41.963653562|-87.651054693|(41.963653562, -8...|                        37|    22616|             31|           20|   39|                    15|               5|           4|\n",
            "+--------+-----------+-------------------+--------------------+---------------+--------------------+--------------------+------+--------+----+--------+----+--------------+--------+------------+------------+----+--------------------+------------+-------------+--------------------+--------------------------+---------+---------------+-------------+-----+----------------------+----------------+------------+\n",
            "only showing top 5 rows\n",
            "\n"
          ],
          "name": "stdout"
        }
      ]
    },
    {
      "cell_type": "code",
      "metadata": {
        "id": "HAIYVrNN7j-J",
        "outputId": "69e2316f-f9eb-45bb-a4f1-2d6e2169e46a",
        "colab": {
          "base_uri": "https://localhost:8080/",
          "height": 35
        }
      },
      "source": [
        "rc.count()"
      ],
      "execution_count": null,
      "outputs": [
        {
          "output_type": "execute_result",
          "data": {
            "text/plain": [
              "6841687"
            ]
          },
          "metadata": {
            "tags": []
          },
          "execution_count": 33
        }
      ]
    },
    {
      "cell_type": "markdown",
      "metadata": {
        "id": "j2cTG_947ki_"
      },
      "source": [
        "## Working with rows"
      ]
    },
    {
      "cell_type": "markdown",
      "metadata": {
        "id": "E-5R6Mk08C4r"
      },
      "source": [
        "**Add the reported crimes for an additional day, 01-April-2019, to our dataset.**"
      ]
    },
    {
      "cell_type": "code",
      "metadata": {
        "id": "yb5IpWlt72Lu",
        "outputId": "3a84506c-b828-42fd-f1ec-f3d4efc53e5a",
        "colab": {
          "base_uri": "https://localhost:8080/",
          "height": 35
        }
      },
      "source": [
        ""
      ],
      "execution_count": null,
      "outputs": [
        {
          "output_type": "execute_result",
          "data": {
            "text/plain": [
              "8"
            ]
          },
          "metadata": {
            "tags": []
          },
          "execution_count": 51
        }
      ]
    },
    {
      "cell_type": "code",
      "metadata": {
        "id": "S06KRLX68BSV",
        "outputId": "a0d0c22b-3411-45c9-efb5-3c5a7332e0dd",
        "colab": {
          "base_uri": "https://localhost:8080/",
          "height": 228
        }
      },
      "source": [
        "rc.union(one_day).show(5)"
      ],
      "execution_count": null,
      "outputs": [
        {
          "output_type": "stream",
          "text": [
            "+--------+-----------+-------------------+--------------------+----+---------------+--------------------+--------------------+------+--------+----+--------+----+--------------+--------+------------+------------+----+--------------------+------------+-------------+--------------------+--------------------------+---------+---------------+-------------+-----+----------------------+----------------+------------+\n",
            "|      ID|Case Number|               Date|               Block|IUCR|   Primary Type|         Description|Location Description|Arrest|Domestic|Beat|District|Ward|Community Area|FBI Code|X Coordinate|Y Coordinate|Year|          Updated On|    Latitude|    Longitude|            Location|Historical Wards 2003-2015|Zip Codes|Community Areas|Census Tracts|Wards|Boundaries - ZIP Codes|Police Districts|Police Beats|\n",
            "+--------+-----------+-------------------+--------------------+----+---------------+--------------------+--------------------+------+--------+----+--------+----+--------------+--------+------------+------------+----+--------------------+------------+-------------+--------------------+--------------------------+---------+---------------+-------------+-----+----------------------+----------------+------------+\n",
            "|11640869|   JC207122|2019-03-31 23:51:00|    058XX W HURON ST|0486|        BATTERY|DOMESTIC BATTERY ...|           RESIDENCE| false|    true|1511|     015|  29|            25|     08B|     1137432|     1904052|2019|04/07/2019 04:05:...|41.892864608|-87.770719974|(41.892864608, -8...|                        52|    22216|             26|          672|    7|                    32|              25|          70|\n",
            "|11640912|   JC207126|2019-03-31 23:50:00|     016XX W 44TH ST|0496|        BATTERY|AGGRAVATED DOMEST...|           APARTMENT|  true|    true|0924|     009|  15|            61|     04B|     1165945|     1875532|2019|04/07/2019 04:05:...|41.814042305|-87.666815552|(41.814042305, -8...|                        29|    14924|             59|          706|    3|                    37|              23|         108|\n",
            "|11640852|   JC207120|2019-03-31 23:47:00|087XX S EXCHANGE AVE|0486|        BATTERY|DOMESTIC BATTERY ...|           RESIDENCE| false|    true|0423|     004|  10|            46|     08B|     1197282|     1847598|2019|04/07/2019 04:05:...|41.736665235|-87.552800507|(41.736665235, -8...|                        47|    21202|             42|          509|   47|                    25|              19|         238|\n",
            "|11640896|   JC207203|2019-03-31 23:45:00|  091XX S HALSTED ST|1310|CRIMINAL DAMAGE|         TO PROPERTY|           RESIDENCE| false|   false|2223|     022|  21|            73|      14|     1172579|     1844322|2019|04/07/2019 04:05:...|41.728254593|-87.643399865|(41.728254593, -8...|                        18|    21554|             72|          151|   13|                    59|               9|         243|\n",
            "|11640816|   JC207116|2019-03-31 23:40:00|008XX W SUNNYSIDE...|0486|        BATTERY|DOMESTIC BATTERY ...|           APARTMENT| false|    true|1914|     019|  46|             3|     08B|     1169808|     1930084|2019|04/07/2019 04:05:...|41.963653562|-87.651054693|(41.963653562, -8...|                        37|    22616|             31|           20|   39|                    15|               5|           4|\n",
            "+--------+-----------+-------------------+--------------------+----+---------------+--------------------+--------------------+------+--------+----+--------+----+--------------+--------+------------+------------+----+--------------------+------------+-------------+--------------------+--------------------------+---------+---------------+-------------+-----+----------------------+----------------+------------+\n",
            "only showing top 5 rows\n",
            "\n"
          ],
          "name": "stdout"
        }
      ]
    },
    {
      "cell_type": "code",
      "metadata": {
        "id": "N40Une3S8A91",
        "outputId": "79cdffef-726b-4ff6-986d-15a8eaf03a48",
        "colab": {
          "base_uri": "https://localhost:8080/",
          "height": 35
        }
      },
      "source": [
        ""
      ],
      "execution_count": null,
      "outputs": [
        {
          "output_type": "execute_result",
          "data": {
            "text/plain": [
              "6841695"
            ]
          },
          "metadata": {
            "tags": []
          },
          "execution_count": 53
        }
      ]
    },
    {
      "cell_type": "code",
      "metadata": {
        "id": "PYXfKHz_c_BD",
        "outputId": "1fa2ee00-449e-424a-a7d6-e0501873e9d0",
        "colab": {
          "base_uri": "https://localhost:8080/",
          "height": 35
        }
      },
      "source": [
        ""
      ],
      "execution_count": null,
      "outputs": [
        {
          "output_type": "execute_result",
          "data": {
            "text/plain": [
              "6841687"
            ]
          },
          "metadata": {
            "tags": []
          },
          "execution_count": 54
        }
      ]
    },
    {
      "cell_type": "code",
      "metadata": {
        "id": "y0pk9J3NdAUk",
        "outputId": "7a3b2219-c93a-4d14-99b7-629725647721",
        "colab": {
          "base_uri": "https://localhost:8080/",
          "height": 228
        }
      },
      "source": [
        ""
      ],
      "execution_count": null,
      "outputs": [
        {
          "output_type": "stream",
          "text": [
            "+--------+-----------+-------------------+--------------------+----+--------------------+--------------+--------------------+------+--------+----+--------+----+--------------+--------+------------+------------+----+--------------------+------------+-------------+--------------------+--------------------------+---------+---------------+-------------+-----+----------------------+----------------+------------+\n",
            "|      ID|Case Number|               Date|               Block|IUCR|        Primary Type|   Description|Location Description|Arrest|Domestic|Beat|District|Ward|Community Area|FBI Code|X Coordinate|Y Coordinate|Year|          Updated On|    Latitude|    Longitude|            Location|Historical Wards 2003-2015|Zip Codes|Community Areas|Census Tracts|Wards|Boundaries - ZIP Codes|Police Districts|Police Beats|\n",
            "+--------+-----------+-------------------+--------------------+----+--------------------+--------------+--------------------+------+--------+----+--------+----+--------------+--------+------------+------------+----+--------------------+------------+-------------+--------------------+--------------------------+---------+---------------+-------------+-----+----------------------+----------------+------------+\n",
            "|11642032|   JC208538|2019-04-02 00:00:00|042XX N CLAREMONT...|0910| MOTOR VEHICLE THEFT|    AUTOMOBILE|              STREET| false|   false|1911|     019|  47|             5|      07|     1159938|     1928231|2019|04/09/2019 04:24:...|41.958778759|-87.687394785|(41.958778759, -8...|                        13|    21538|             46|          623|   18|                    39|               5|          10|\n",
            "|11643196|   JC209905|2019-04-02 00:00:00|021XX W CHARLESTO...|0810|               THEFT|     OVER $500|              STREET| false|   false|1432|     014|  32|            22|      06|     1161772|     1914104|2019|04/09/2019 04:24:...|41.919975303|-87.681047469|(41.919975303, -8...|                        16|    22535|             23|          178|   40|                     1|               7|         180|\n",
            "|11660797|   JC225891|2019-04-02 00:00:00|080XX S MARYLAND AVE|1750|OFFENSE INVOLVING...|   CHILD ABUSE|           RESIDENCE| false|   false|0631|     006|   8|            44|     08B|     1183299|     1851867|2019|04/26/2019 04:03:...|41.748716415|-87.603896425|(41.748716415, -8...|                         9|    21546|             40|          247|   35|                    61|              20|         235|\n",
            "|11651015|   JC219530|2019-04-02 00:00:00| 093XX S CALUMET AVE|0281| CRIM SEXUAL ASSAULT|NON-AGGRAVATED|           RESIDENCE| false|    true|0633|     006|   9|            49|      02|     1180223|     1843182|2019|04/13/2019 03:55:...|41.724954751|-87.615433374|(41.724954751, -8...|                        31|    21546|             45|          554|   43|                    61|              20|         248|\n",
            "|11642476|   JC209092|2019-04-02 00:00:00|  054XX S SAWYER AVE|0820|               THEFT|$500 AND UNDER|              STREET| false|   false|0822|     008|  14|            63|      06|     1155638|     1868391|2019|04/09/2019 04:24:...|41.794659577|-87.704814347|(41.794659577, -8...|                        49|    22248|             61|          776|    8|                    56|              13|         129|\n",
            "+--------+-----------+-------------------+--------------------+----+--------------------+--------------+--------------------+------+--------+----+--------+----+--------------+--------+------------+------------+----+--------------------+------------+-------------+--------------------+--------------------------+---------+---------------+-------------+-----+----------------------+----------------+------------+\n",
            "only showing top 5 rows\n",
            "\n"
          ],
          "name": "stdout"
        }
      ]
    },
    {
      "cell_type": "markdown",
      "metadata": {
        "id": "7UPiRyk78ERU"
      },
      "source": [
        "**What are the top 10 number of reported crimes by Primary type, in descending order of occurence?**"
      ]
    },
    {
      "cell_type": "code",
      "metadata": {
        "id": "z-UnvpBX8IlX",
        "outputId": "0af6660f-78b9-4997-917a-84b09fec9cde",
        "colab": {
          "base_uri": "https://localhost:8080/",
          "height": 468
        }
      },
      "source": [
        ""
      ],
      "execution_count": null,
      "outputs": [
        {
          "output_type": "stream",
          "text": [
            "+--------------------+-------+\n",
            "|        Primary type|  count|\n",
            "+--------------------+-------+\n",
            "|OFFENSE INVOLVING...|  46274|\n",
            "|            STALKING|   3468|\n",
            "|PUBLIC PEACE VIOL...|  48315|\n",
            "|           OBSCENITY|    604|\n",
            "|NON-CRIMINAL (SUB...|      9|\n",
            "|               ARSON|  11283|\n",
            "|   DOMESTIC VIOLENCE|      1|\n",
            "|            GAMBLING|  14438|\n",
            "|   CRIMINAL TRESPASS| 195803|\n",
            "|             ASSAULT| 425573|\n",
            "|      NON - CRIMINAL|     38|\n",
            "|LIQUOR LAW VIOLATION|  14130|\n",
            "| MOTOR VEHICLE THEFT| 317694|\n",
            "|               THEFT|1440495|\n",
            "|             BATTERY|1249262|\n",
            "|             ROBBERY| 258609|\n",
            "|            HOMICIDE|   9593|\n",
            "|           RITUALISM|     23|\n",
            "|    PUBLIC INDECENCY|    164|\n",
            "| CRIM SEXUAL ASSAULT|  27851|\n",
            "+--------------------+-------+\n",
            "only showing top 20 rows\n",
            "\n"
          ],
          "name": "stdout"
        }
      ]
    },
    {
      "cell_type": "code",
      "metadata": {
        "id": "83nMbtdm8ITE",
        "outputId": "9dec7651-9aed-4522-d43a-df95bc7fd540",
        "colab": {
          "base_uri": "https://localhost:8080/",
          "height": 468
        }
      },
      "source": [
        ""
      ],
      "execution_count": null,
      "outputs": [
        {
          "output_type": "stream",
          "text": [
            "+--------------------+-------+\n",
            "|        Primary type|  count|\n",
            "+--------------------+-------+\n",
            "|               THEFT|1440495|\n",
            "|             BATTERY|1249262|\n",
            "|     CRIMINAL DAMAGE| 780494|\n",
            "|           NARCOTICS| 716461|\n",
            "|             ASSAULT| 425573|\n",
            "|       OTHER OFFENSE| 425091|\n",
            "|            BURGLARY| 391699|\n",
            "| MOTOR VEHICLE THEFT| 317694|\n",
            "|  DECEPTIVE PRACTICE| 270421|\n",
            "|             ROBBERY| 258609|\n",
            "|   CRIMINAL TRESPASS| 195803|\n",
            "|   WEAPONS VIOLATION|  72699|\n",
            "|        PROSTITUTION|  68564|\n",
            "|PUBLIC PEACE VIOL...|  48315|\n",
            "|OFFENSE INVOLVING...|  46274|\n",
            "| CRIM SEXUAL ASSAULT|  27851|\n",
            "|         SEX OFFENSE|  25612|\n",
            "|INTERFERENCE WITH...|  15601|\n",
            "|            GAMBLING|  14438|\n",
            "|LIQUOR LAW VIOLATION|  14130|\n",
            "+--------------------+-------+\n",
            "only showing top 20 rows\n",
            "\n"
          ],
          "name": "stdout"
        }
      ]
    },
    {
      "cell_type": "code",
      "metadata": {
        "id": "Km6bTx308H4I"
      },
      "source": [
        ""
      ],
      "execution_count": null,
      "outputs": []
    },
    {
      "cell_type": "markdown",
      "metadata": {
        "id": "KtHLIEg5dfjO"
      },
      "source": [
        "## Challenge questions"
      ]
    },
    {
      "cell_type": "markdown",
      "metadata": {
        "id": "c45S4AEkdj5O"
      },
      "source": [
        "**What percentage of reported crimes resulted in an arrest?**"
      ]
    },
    {
      "cell_type": "code",
      "metadata": {
        "id": "klBPv5JqdjDS",
        "outputId": "bac2d2f7-b806-4236-ce52-0707943c0f87",
        "colab": {
          "base_uri": "https://localhost:8080/",
          "height": 35
        }
      },
      "source": [
        ""
      ],
      "execution_count": null,
      "outputs": [
        {
          "output_type": "execute_result",
          "data": {
            "text/plain": [
              "0.27657535341795086"
            ]
          },
          "metadata": {
            "tags": []
          },
          "execution_count": 64
        }
      ]
    },
    {
      "cell_type": "markdown",
      "metadata": {
        "id": "VVndxpb1dmiy"
      },
      "source": [
        "  **What are the top 3 locations for reported crimes?**"
      ]
    },
    {
      "cell_type": "code",
      "metadata": {
        "id": "U1AopR7ofBQW",
        "outputId": "43369371-47f9-4f40-efdc-0e03c8677b94",
        "colab": {
          "base_uri": "https://localhost:8080/",
          "height": 208
        }
      },
      "source": [
        ""
      ],
      "execution_count": null,
      "outputs": [
        {
          "output_type": "stream",
          "text": [
            "+--------------------+-------+\n",
            "|Location Description|  count|\n",
            "+--------------------+-------+\n",
            "|              STREET|1790520|\n",
            "|           RESIDENCE|1159139|\n",
            "|           APARTMENT| 710861|\n",
            "|            SIDEWALK| 671590|\n",
            "|               OTHER| 260468|\n",
            "+--------------------+-------+\n",
            "only showing top 5 rows\n",
            "\n"
          ],
          "name": "stdout"
        }
      ]
    },
    {
      "cell_type": "code",
      "metadata": {
        "id": "fzXNvJJNfMTn"
      },
      "source": [
        ""
      ],
      "execution_count": null,
      "outputs": []
    },
    {
      "cell_type": "markdown",
      "metadata": {
        "id": "IqvIxUPhfpGF"
      },
      "source": [
        "## Built-in functions"
      ]
    },
    {
      "cell_type": "code",
      "metadata": {
        "id": "f59CT12RfrE9"
      },
      "source": [
        "from pyspark.sql import functions"
      ],
      "execution_count": null,
      "outputs": []
    },
    {
      "cell_type": "code",
      "metadata": {
        "id": "8JQ7mKzKfuiM",
        "outputId": "0111a050-9303-4ca6-9644-83d890b145a7",
        "colab": {
          "base_uri": "https://localhost:8080/",
          "height": 55
        }
      },
      "source": [
        "print(dir(functions))"
      ],
      "execution_count": null,
      "outputs": [
        {
          "output_type": "stream",
          "text": [
            "['AutoBatchedSerializer', 'Column', 'DataFrame', 'DataType', 'PandasUDFType', 'PickleSerializer', 'PythonEvalType', 'SparkContext', 'StringType', 'UserDefinedFunction', '__all__', '__builtins__', '__cached__', '__doc__', '__file__', '__loader__', '__name__', '__package__', '__spec__', '_binary_mathfunctions', '_collect_list_doc', '_collect_set_doc', '_create_binary_mathfunction', '_create_function', '_create_udf', '_create_window_function', '_functions', '_functions_1_4', '_functions_1_6', '_functions_2_1', '_functions_deprecated', '_lit_doc', '_message', '_string_functions', '_test', '_to_java_column', '_to_seq', '_window_functions', '_wrap_deprecated_function', 'abs', 'acos', 'add_months', 'approxCountDistinct', 'approx_count_distinct', 'array', 'array_contains', 'asc', 'ascii', 'asin', 'atan', 'atan2', 'avg', 'base64', 'bin', 'bitwiseNOT', 'blacklist', 'broadcast', 'bround', 'cbrt', 'ceil', 'coalesce', 'col', 'collect_list', 'collect_set', 'column', 'concat', 'concat_ws', 'conv', 'corr', 'cos', 'cosh', 'count', 'countDistinct', 'covar_pop', 'covar_samp', 'crc32', 'create_map', 'cume_dist', 'current_date', 'current_timestamp', 'date_add', 'date_format', 'date_sub', 'date_trunc', 'datediff', 'dayofmonth', 'dayofweek', 'dayofyear', 'decode', 'degrees', 'dense_rank', 'desc', 'encode', 'exp', 'explode', 'explode_outer', 'expm1', 'expr', 'factorial', 'first', 'floor', 'format_number', 'format_string', 'from_json', 'from_unixtime', 'from_utc_timestamp', 'functools', 'get_json_object', 'greatest', 'grouping', 'grouping_id', 'hash', 'hex', 'hour', 'hypot', 'ignore_unicode_prefix', 'initcap', 'input_file_name', 'instr', 'isnan', 'isnull', 'json_tuple', 'kurtosis', 'lag', 'last', 'last_day', 'lead', 'least', 'length', 'levenshtein', 'lit', 'locate', 'log', 'log10', 'log1p', 'log2', 'lower', 'lpad', 'ltrim', 'map_keys', 'map_values', 'math', 'max', 'md5', 'mean', 'min', 'minute', 'monotonically_increasing_id', 'month', 'months_between', 'nanvl', 'next_day', 'ntile', 'pandas_udf', 'percent_rank', 'posexplode', 'posexplode_outer', 'pow', 'quarter', 'radians', 'rand', 'randn', 'rank', 'regexp_extract', 'regexp_replace', 'repeat', 'reverse', 'rint', 'round', 'row_number', 'rpad', 'rtrim', 'second', 'sha1', 'sha2', 'shiftLeft', 'shiftRight', 'shiftRightUnsigned', 'signum', 'sin', 'since', 'sinh', 'size', 'skewness', 'sort_array', 'soundex', 'spark_partition_id', 'split', 'sqrt', 'stddev', 'stddev_pop', 'stddev_samp', 'struct', 'substring', 'substring_index', 'sum', 'sumDistinct', 'sys', 'tan', 'tanh', 'toDegrees', 'toRadians', 'to_date', 'to_json', 'to_timestamp', 'to_utc_timestamp', 'translate', 'trim', 'trunc', 'udf', 'unbase64', 'unhex', 'unix_timestamp', 'upper', 'var_pop', 'var_samp', 'variance', 'warnings', 'weekofyear', 'when', 'window', 'year']\n"
          ],
          "name": "stdout"
        }
      ]
    },
    {
      "cell_type": "markdown",
      "metadata": {
        "id": "iRFwzawof6H8"
      },
      "source": [
        "## String functions"
      ]
    },
    {
      "cell_type": "markdown",
      "metadata": {
        "id": "qc8m932Kf8s8"
      },
      "source": [
        "**Display the Primary Type column in lower and upper characters, and the first 4 characters of the column**"
      ]
    },
    {
      "cell_type": "code",
      "metadata": {
        "id": "EzPJpPnffwOt"
      },
      "source": [
        "from pyspark.sql.functions import lower,upper,substring"
      ],
      "execution_count": null,
      "outputs": []
    },
    {
      "cell_type": "code",
      "metadata": {
        "id": "k5kFO4_oje9I",
        "outputId": "73275d98-55e9-415e-c5ba-bb3430542c77",
        "colab": {
          "base_uri": "https://localhost:8080/",
          "height": 87
        }
      },
      "source": [
        "help('lower')"
      ],
      "execution_count": null,
      "outputs": [
        {
          "output_type": "stream",
          "text": [
            "No Python documentation found for 'lower'.\n",
            "Use help() to get the interactive help utility.\n",
            "Use help(str) for help on the str class.\n",
            "\n"
          ],
          "name": "stdout"
        }
      ]
    },
    {
      "cell_type": "code",
      "metadata": {
        "id": "B-pu3xH2jxN_"
      },
      "source": [
        ""
      ],
      "execution_count": null,
      "outputs": []
    }
  ]
}