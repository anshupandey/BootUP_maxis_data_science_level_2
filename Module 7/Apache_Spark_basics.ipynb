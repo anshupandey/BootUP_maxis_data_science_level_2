{
  "nbformat": 4,
  "nbformat_minor": 0,
  "metadata": {
    "colab": {
      "name": "Lab_environment2.ipynb",
      "provenance": [],
      "collapsed_sections": []
    },
    "language_info": {
      "codemirror_mode": {
        "name": "ipython",
        "version": 3
      },
      "file_extension": ".py",
      "mimetype": "text/x-python",
      "name": "python",
      "nbconvert_exporter": "python",
      "pygments_lexer": "ipython3",
      "version": "3.6.5"
    },
    "kernelspec": {
      "display_name": "Python 3",
      "language": "python",
      "name": "python3"
    }
  },
  "cells": [
    {
      "cell_type": "markdown",
      "metadata": {
        "id": "qJoeN3e8_Gzk"
      },
      "source": [
        "# Chicago Crime Data Investigation using PySpark"
      ]
    },
    {
      "cell_type": "markdown",
      "metadata": {
        "id": "Dd6t0uFzuR4X"
      },
      "source": [
        "## Install Spark"
      ]
    },
    {
      "cell_type": "code",
      "metadata": {
        "id": "tt7ZS1_wGgjn",
        "outputId": "90a15cf0-8f69-49d5-ac40-e54642e3ffa5",
        "colab": {
          "base_uri": "https://localhost:8080/",
          "height": 531
        }
      },
      "source": [
        "!apt-get update\n",
        "!apt-get install openjdk-8-jdk-headless -qq > /dev/null\n",
        "!wget -q http://archive.apache.org/dist/spark/spark-2.3.1/spark-2.3.1-bin-hadoop2.7.tgz\n",
        "!tar xf spark-2.3.1-bin-hadoop2.7.tgz\n",
        "!pip install -q findspark"
      ],
      "execution_count": null,
      "outputs": [
        {
          "output_type": "stream",
          "text": [
            "\r0% [Working]\r            \rHit:1 http://archive.ubuntu.com/ubuntu bionic InRelease\n",
            "\r0% [Connecting to security.ubuntu.com (91.189.91.38)] [Connected to cloud.r-pro\r                                                                               \rGet:2 http://archive.ubuntu.com/ubuntu bionic-updates InRelease [88.7 kB]\n",
            "\r                                                                               \rGet:3 http://ppa.launchpad.net/c2d4u.team/c2d4u4.0+/ubuntu bionic InRelease [15.9 kB]\n",
            "\r                                                                               \rGet:4 http://ppa.launchpad.net/graphics-drivers/ppa/ubuntu bionic InRelease [21.3 kB]\n",
            "\r0% [2 InRelease 59.1 kB/88.7 kB 67%] [Connecting to security.ubuntu.com (91.189\r0% [1 InRelease gpgv 242 kB] [2 InRelease 64.9 kB/88.7 kB 73%] [Connecting to s\r0% [1 InRelease gpgv 242 kB] [Connecting to security.ubuntu.com (91.189.91.38)]\r0% [1 InRelease gpgv 242 kB] [Waiting for headers] [Connecting to security.ubun\r                                                                               \rGet:5 https://cloud.r-project.org/bin/linux/ubuntu bionic-cran40/ InRelease [3,626 B]\n",
            "Get:6 http://archive.ubuntu.com/ubuntu bionic-backports InRelease [74.6 kB]\n",
            "Get:7 http://security.ubuntu.com/ubuntu bionic-security InRelease [88.7 kB]\n",
            "Ign:8 https://developer.download.nvidia.com/compute/cuda/repos/ubuntu1804/x86_64  InRelease\n",
            "Ign:9 https://developer.download.nvidia.com/compute/machine-learning/repos/ubuntu1804/x86_64  InRelease\n",
            "Get:10 https://developer.download.nvidia.com/compute/cuda/repos/ubuntu1804/x86_64  Release [697 B]\n",
            "Hit:11 https://developer.download.nvidia.com/compute/machine-learning/repos/ubuntu1804/x86_64  Release\n",
            "Get:12 https://developer.download.nvidia.com/compute/cuda/repos/ubuntu1804/x86_64  Release.gpg [836 B]\n",
            "Get:13 http://ppa.launchpad.net/c2d4u.team/c2d4u4.0+/ubuntu bionic/main Sources [1,673 kB]\n",
            "Get:14 http://ppa.launchpad.net/c2d4u.team/c2d4u4.0+/ubuntu bionic/main amd64 Packages [856 kB]\n",
            "Get:15 http://archive.ubuntu.com/ubuntu bionic-updates/main amd64 Packages [2,110 kB]\n",
            "Get:16 http://archive.ubuntu.com/ubuntu bionic-updates/restricted amd64 Packages [220 kB]\n",
            "Get:17 http://archive.ubuntu.com/ubuntu bionic-updates/multiverse amd64 Packages [44.6 kB]\n",
            "Get:18 http://archive.ubuntu.com/ubuntu bionic-updates/universe amd64 Packages [2,095 kB]\n",
            "Get:19 http://ppa.launchpad.net/graphics-drivers/ppa/ubuntu bionic/main amd64 Packages [48.9 kB]\n",
            "Get:20 https://cloud.r-project.org/bin/linux/ubuntu bionic-cran40/ Packages [36.0 kB]\n",
            "Get:21 http://archive.ubuntu.com/ubuntu bionic-backports/main amd64 Packages [11.3 kB]\n",
            "Get:22 http://archive.ubuntu.com/ubuntu bionic-backports/universe amd64 Packages [11.4 kB]\n",
            "Get:24 http://security.ubuntu.com/ubuntu bionic-security/restricted amd64 Packages [193 kB]\n",
            "Get:25 http://security.ubuntu.com/ubuntu bionic-security/main amd64 Packages [1,693 kB]\n",
            "Ign:26 https://developer.download.nvidia.com/compute/cuda/repos/ubuntu1804/x86_64  Packages\n",
            "Get:26 https://developer.download.nvidia.com/compute/cuda/repos/ubuntu1804/x86_64  Packages [334 kB]\n",
            "Get:27 http://security.ubuntu.com/ubuntu bionic-security/universe amd64 Packages [1,332 kB]\n",
            "Get:28 http://security.ubuntu.com/ubuntu bionic-security/multiverse amd64 Packages [14.6 kB]\n",
            "Fetched 11.0 MB in 3s (3,629 kB/s)\n",
            "Reading package lists... Done\n"
          ],
          "name": "stdout"
        }
      ]
    },
    {
      "cell_type": "code",
      "metadata": {
        "id": "sdOOq4twHN1K"
      },
      "source": [
        "# Seetting up the paths\n",
        "import os\n",
        "os.environ[\"JAVA_HOME\"] = \"/usr/lib/jvm/java-8-openjdk-amd64\"\n",
        "os.environ[\"SPARK_HOME\"] = \"/content/spark-2.3.1-bin-hadoop2.7\""
      ],
      "execution_count": null,
      "outputs": []
    },
    {
      "cell_type": "code",
      "metadata": {
        "id": "3ACYMwhgHTYz",
        "outputId": "32665db8-9a4a-4cd4-9556-825e3dbc3246",
        "colab": {
          "base_uri": "https://localhost:8080/",
          "height": 34
        }
      },
      "source": [
        "# check the list of files and folders in the current dorectory\n",
        "!ls"
      ],
      "execution_count": null,
      "outputs": [
        {
          "output_type": "stream",
          "text": [
            "sample_data  spark-2.3.1-bin-hadoop2.7\tspark-2.3.1-bin-hadoop2.7.tgz\n"
          ],
          "name": "stdout"
        }
      ]
    },
    {
      "cell_type": "code",
      "metadata": {
        "id": "wjfF7LLgHZe3",
        "outputId": "ad458cc8-f6c4-49a6-f488-3a81d480bab7",
        "colab": {
          "base_uri": "https://localhost:8080/",
          "height": 194
        }
      },
      "source": [
        "# import findspark and checking out how to create a spark session\n",
        "import findspark\n",
        "findspark.init()\n",
        "from pyspark import SparkContext\n",
        "\n",
        "sc = SparkContext.getOrCreate()\n",
        "sc"
      ],
      "execution_count": null,
      "outputs": [
        {
          "output_type": "execute_result",
          "data": {
            "text/html": [
              "\n",
              "        <div>\n",
              "            <p><b>SparkContext</b></p>\n",
              "\n",
              "            <p><a href=\"http://f475784c0050:4040\">Spark UI</a></p>\n",
              "\n",
              "            <dl>\n",
              "              <dt>Version</dt>\n",
              "                <dd><code>v2.3.1</code></dd>\n",
              "              <dt>Master</dt>\n",
              "                <dd><code>local[*]</code></dd>\n",
              "              <dt>AppName</dt>\n",
              "                <dd><code>pyspark-shell</code></dd>\n",
              "            </dl>\n",
              "        </div>\n",
              "        "
            ],
            "text/plain": [
              "<SparkContext master=local[*] appName=pyspark-shell>"
            ]
          },
          "metadata": {
            "tags": []
          },
          "execution_count": 4
        }
      ]
    },
    {
      "cell_type": "code",
      "metadata": {
        "id": "Gs7fzvxcHfvw",
        "outputId": "9a093591-8aab-4646-8ec3-34fed0c22bb8",
        "colab": {
          "base_uri": "https://localhost:8080/",
          "height": 217
        }
      },
      "source": [
        "import pyspark\n",
        "from pyspark.sql import SparkSession\n",
        "spark = SparkSession.builder.getOrCreate() \n",
        "spark"
      ],
      "execution_count": null,
      "outputs": [
        {
          "output_type": "execute_result",
          "data": {
            "text/html": [
              "\n",
              "            <div>\n",
              "                <p><b>SparkSession - in-memory</b></p>\n",
              "                \n",
              "        <div>\n",
              "            <p><b>SparkContext</b></p>\n",
              "\n",
              "            <p><a href=\"http://f475784c0050:4040\">Spark UI</a></p>\n",
              "\n",
              "            <dl>\n",
              "              <dt>Version</dt>\n",
              "                <dd><code>v2.3.1</code></dd>\n",
              "              <dt>Master</dt>\n",
              "                <dd><code>local[*]</code></dd>\n",
              "              <dt>AppName</dt>\n",
              "                <dd><code>pyspark-shell</code></dd>\n",
              "            </dl>\n",
              "        </div>\n",
              "        \n",
              "            </div>\n",
              "        "
            ],
            "text/plain": [
              "<pyspark.sql.session.SparkSession at 0x7f1d10f28278>"
            ]
          },
          "metadata": {
            "tags": []
          },
          "execution_count": 5
        }
      ]
    },
    {
      "cell_type": "markdown",
      "metadata": {
        "id": "gZV3c8mF4MaA"
      },
      "source": [
        "## Downloading and preprocessing Chicago's Reported Crime Data"
      ]
    },
    {
      "cell_type": "code",
      "metadata": {
        "id": "We2yp-o7Hgu9",
        "outputId": "e887c012-5a5c-4be9-8db9-9f5787ce7a7a",
        "colab": {
          "base_uri": "https://localhost:8080/",
          "height": 206
        }
      },
      "source": [
        "#!wget https://data.cityofchicago.org/api/views/ijzp-q8t2/rows.csv?accessType=DOWNLOAD\n",
        "!wget https://data.cityofchicago.org/api/views/qzdf-xmn8/rows.csv?accessType=DOWNLOAD"
      ],
      "execution_count": null,
      "outputs": [
        {
          "output_type": "stream",
          "text": [
            "--2020-10-01 01:47:58--  https://data.cityofchicago.org/api/views/qzdf-xmn8/rows.csv?accessType=DOWNLOAD\n",
            "Resolving data.cityofchicago.org (data.cityofchicago.org)... 52.206.140.205, 52.206.140.199, 52.206.68.26\n",
            "Connecting to data.cityofchicago.org (data.cityofchicago.org)|52.206.140.205|:443... connected.\n",
            "HTTP request sent, awaiting response... 200 OK\n",
            "Length: unspecified [text/csv]\n",
            "Saving to: ‘rows.csv?accessType=DOWNLOAD’\n",
            "\n",
            "rows.csv?accessType     [             <=>    ]  34.83M  3.30MB/s    in 10s     \n",
            "\n",
            "2020-10-01 01:48:09 (3.36 MB/s) - ‘rows.csv?accessType=DOWNLOAD’ saved [36525557]\n",
            "\n"
          ],
          "name": "stdout"
        }
      ]
    },
    {
      "cell_type": "code",
      "metadata": {
        "id": "QdrFO3yrwptm",
        "outputId": "486fc91a-5552-4e4e-f205-3af062e6b264",
        "colab": {
          "base_uri": "https://localhost:8080/",
          "height": 68
        }
      },
      "source": [
        "# check all the files in the directory\n",
        "!ls"
      ],
      "execution_count": null,
      "outputs": [
        {
          "output_type": "stream",
          "text": [
            " reported-crimes.csv\t\t spark-2.3.1-bin-hadoop2.7\n",
            "'rows.csv?accessType=DOWNLOAD'\t spark-2.3.1-bin-hadoop2.7.tgz\n",
            " sample_data\t\t\t spark-warehouse\n"
          ],
          "name": "stdout"
        }
      ]
    },
    {
      "cell_type": "code",
      "metadata": {
        "id": "BIXepui355t2"
      },
      "source": [
        "# rename the file to something simple\n",
        "!mv rows.csv\\?accessType\\=DOWNLOAD reported-crimes.csv"
      ],
      "execution_count": null,
      "outputs": []
    },
    {
      "cell_type": "code",
      "metadata": {
        "id": "XvEC3Awl6Iur",
        "outputId": "29a00793-534f-480a-90cb-715dfa5c3f54",
        "colab": {
          "base_uri": "https://localhost:8080/",
          "height": 51
        }
      },
      "source": [
        "# check all the files in the directory\n",
        "!ls"
      ],
      "execution_count": null,
      "outputs": [
        {
          "output_type": "stream",
          "text": [
            "reported-crimes.csv  spark-2.3.1-bin-hadoop2.7\t    spark-warehouse\n",
            "sample_data\t     spark-2.3.1-bin-hadoop2.7.tgz\n"
          ],
          "name": "stdout"
        }
      ]
    },
    {
      "cell_type": "code",
      "metadata": {
        "id": "DItM9k7P6JqG"
      },
      "source": [
        "# loading data as a dataframe\n",
        "from pyspark.sql.functions import to_timestamp,col,lit\n",
        "rc = spark.read.csv('reported-crimes.csv',header=True).withColumn('Date',to_timestamp(col('Date'),'MM/dd/yyyy hh:mm:ss a')).filter(col('Date') <= lit('2020-09-01'))"
      ],
      "execution_count": null,
      "outputs": []
    },
    {
      "cell_type": "code",
      "metadata": {
        "id": "qiRDanNv9Q-O",
        "outputId": "d8aedd12-cdec-4034-b6c2-08b62955195c",
        "colab": {
          "base_uri": "https://localhost:8080/",
          "height": 226
        }
      },
      "source": [
        "# lets check the top five rows\n",
        "rc.show(5)"
      ],
      "execution_count": null,
      "outputs": [
        {
          "output_type": "stream",
          "text": [
            "+--------+-----------+-------------------+--------------------+----+------------------+--------------------+--------------------+------+--------+----+--------+----+--------------+--------+------------+------------+----+--------------------+--------+---------+--------+\n",
            "|      ID|Case Number|               Date|               Block|IUCR|      Primary Type|         Description|Location Description|Arrest|Domestic|Beat|District|Ward|Community Area|FBI Code|X Coordinate|Y Coordinate|Year|          Updated On|Latitude|Longitude|Location|\n",
            "+--------+-----------+-------------------+--------------------+----+------------------+--------------------+--------------------+------+--------+----+--------+----+--------------+--------+------------+------------+----+--------------------+--------+---------+--------+\n",
            "|12178298|   JD376412|2020-08-10 08:00:00| 078XX S LANGLEY AVE|1130|DECEPTIVE PRACTICE|FRAUD OR CONFIDEN...|           RESIDENCE| false|   false|0624|     006|   6|            69|      11|        null|        null|2020|09/29/2020 03:53:...|    null|     null|    null|\n",
            "|12178369|   JD382021|2020-08-29 14:00:00|     0000X E 99TH PL|4387|     OTHER OFFENSE|VIOLATE ORDER OF ...|           RESIDENCE| false|    true|0511|     005|   9|            49|      26|        null|        null|2020|09/29/2020 03:53:...|    null|     null|    null|\n",
            "|12179107|   JD382852|2020-08-02 19:46:00|    034XX W 116TH PL|1310|   CRIMINAL DAMAGE|         TO PROPERTY|           RESIDENCE| false|   false|2211|     022|  19|            74|      14|        null|        null|2020|09/29/2020 03:53:...|    null|     null|    null|\n",
            "|12178761|   JD382444|2020-08-25 16:00:00|054XX W VAN BUREN ST|1130|DECEPTIVE PRACTICE|FRAUD OR CONFIDEN...|           RESIDENCE| false|   false|1522|     015|  29|            25|      11|        null|        null|2020|09/29/2020 03:53:...|    null|     null|    null|\n",
            "|12178615|   JD382351|2020-01-10 12:00:00|061XX N MAPLEWOOD...|1154|DECEPTIVE PRACTICE|FINANCIAL IDENTIT...|              STREET| false|   false|2413|     024|  40|             2|      11|        null|        null|2020|09/29/2020 03:53:...|    null|     null|    null|\n",
            "+--------+-----------+-------------------+--------------------+----+------------------+--------------------+--------------------+------+--------+----+--------+----+--------------+--------+------------+------------+----+--------------------+--------+---------+--------+\n",
            "only showing top 5 rows\n",
            "\n"
          ],
          "name": "stdout"
        }
      ]
    },
    {
      "cell_type": "code",
      "metadata": {
        "id": "hGqo_aCm2Ljl",
        "outputId": "c5a471a8-debc-4ed1-e139-29cd47233a92",
        "colab": {
          "base_uri": "https://localhost:8080/",
          "height": 34
        }
      },
      "source": [
        "rc.count()"
      ],
      "execution_count": null,
      "outputs": [
        {
          "output_type": "execute_result",
          "data": {
            "text/plain": [
              "140050"
            ]
          },
          "metadata": {
            "tags": []
          },
          "execution_count": 17
        }
      ]
    },
    {
      "cell_type": "markdown",
      "metadata": {
        "id": "5PeEgYvp6xyw"
      },
      "source": [
        "## Working with columns"
      ]
    },
    {
      "cell_type": "markdown",
      "metadata": {
        "id": "Yb6kU5Be66eS"
      },
      "source": [
        "**Display only the first 5 rows of the column name IUCR **"
      ]
    },
    {
      "cell_type": "code",
      "metadata": {
        "id": "hnB1BC0M61sV",
        "outputId": "cf7e682b-e188-454e-eccc-c8cfdf7b1b3c",
        "colab": {
          "base_uri": "https://localhost:8080/",
          "height": 206
        }
      },
      "source": [
        "rc.select(col(\"IUCR\")).show(5)"
      ],
      "execution_count": null,
      "outputs": [
        {
          "output_type": "stream",
          "text": [
            "+----+\n",
            "|IUCR|\n",
            "+----+\n",
            "|1130|\n",
            "|4387|\n",
            "|1310|\n",
            "|1130|\n",
            "|1154|\n",
            "+----+\n",
            "only showing top 5 rows\n",
            "\n"
          ],
          "name": "stdout"
        }
      ]
    },
    {
      "cell_type": "code",
      "metadata": {
        "id": "vbfpCxK47Acy",
        "outputId": "67793a6b-1cbd-4c4d-a36a-5127961a227b",
        "colab": {
          "base_uri": "https://localhost:8080/",
          "height": 206
        }
      },
      "source": [
        "rc.select(\"IUCR\").show(5)"
      ],
      "execution_count": null,
      "outputs": [
        {
          "output_type": "stream",
          "text": [
            "+----+\n",
            "|IUCR|\n",
            "+----+\n",
            "|1130|\n",
            "|4387|\n",
            "|1310|\n",
            "|1130|\n",
            "|1154|\n",
            "+----+\n",
            "only showing top 5 rows\n",
            "\n"
          ],
          "name": "stdout"
        }
      ]
    },
    {
      "cell_type": "markdown",
      "metadata": {
        "id": "63J8kGFw7BB9"
      },
      "source": [
        "  **Display only the first 4 rows of the column names Case Number, Date and Arrest**"
      ]
    },
    {
      "cell_type": "code",
      "metadata": {
        "id": "VxvArTuT7BxX",
        "outputId": "9dccee48-fd03-45fe-ebf1-6c3546b1f392",
        "colab": {
          "base_uri": "https://localhost:8080/",
          "height": 188
        }
      },
      "source": [
        "rc.select(\"Case Number\",\"Date\",\"Arrest\").show(4)"
      ],
      "execution_count": null,
      "outputs": [
        {
          "output_type": "stream",
          "text": [
            "+-----------+-------------------+------+\n",
            "|Case Number|               Date|Arrest|\n",
            "+-----------+-------------------+------+\n",
            "|   JD376412|2020-08-10 08:00:00| false|\n",
            "|   JD382021|2020-08-29 14:00:00| false|\n",
            "|   JD382852|2020-08-02 19:46:00| false|\n",
            "|   JD382444|2020-08-25 16:00:00| false|\n",
            "+-----------+-------------------+------+\n",
            "only showing top 4 rows\n",
            "\n"
          ],
          "name": "stdout"
        }
      ]
    },
    {
      "cell_type": "code",
      "metadata": {
        "id": "Af2-F10x7CgW",
        "outputId": "8d74d78b-6827-4413-ab3e-01bb1ec8c203",
        "colab": {
          "base_uri": "https://localhost:8080/",
          "height": 188
        }
      },
      "source": [
        "rc.select(col(\"Case Number\"),col(\"Date\"),col(\"Arrest\")).show(4)"
      ],
      "execution_count": null,
      "outputs": [
        {
          "output_type": "stream",
          "text": [
            "+-----------+-------------------+------+\n",
            "|Case Number|               Date|Arrest|\n",
            "+-----------+-------------------+------+\n",
            "|   JD376412|2020-08-10 08:00:00| false|\n",
            "|   JD382021|2020-08-29 14:00:00| false|\n",
            "|   JD382852|2020-08-02 19:46:00| false|\n",
            "|   JD382444|2020-08-25 16:00:00| false|\n",
            "+-----------+-------------------+------+\n",
            "only showing top 4 rows\n",
            "\n"
          ],
          "name": "stdout"
        }
      ]
    },
    {
      "cell_type": "markdown",
      "metadata": {
        "id": "S-wQQZAv7GZA"
      },
      "source": [
        "** Add a column with name One, with entries all 1s **"
      ]
    },
    {
      "cell_type": "code",
      "metadata": {
        "id": "9u-M57iy7G87",
        "outputId": "b0307789-3aaf-457c-c1bd-d6aae0adf0fc",
        "colab": {
          "base_uri": "https://localhost:8080/",
          "height": 226
        }
      },
      "source": [
        "from pyspark.sql.functions import lit\n",
        "rc.withColumn('One',lit(1)).show(5)"
      ],
      "execution_count": null,
      "outputs": [
        {
          "output_type": "stream",
          "text": [
            "+--------+-----------+-------------------+--------------------+----+------------------+--------------------+--------------------+------+--------+----+--------+----+--------------+--------+------------+------------+----+--------------------+--------+---------+--------+---+\n",
            "|      ID|Case Number|               Date|               Block|IUCR|      Primary Type|         Description|Location Description|Arrest|Domestic|Beat|District|Ward|Community Area|FBI Code|X Coordinate|Y Coordinate|Year|          Updated On|Latitude|Longitude|Location|One|\n",
            "+--------+-----------+-------------------+--------------------+----+------------------+--------------------+--------------------+------+--------+----+--------+----+--------------+--------+------------+------------+----+--------------------+--------+---------+--------+---+\n",
            "|12178298|   JD376412|2020-08-10 08:00:00| 078XX S LANGLEY AVE|1130|DECEPTIVE PRACTICE|FRAUD OR CONFIDEN...|           RESIDENCE| false|   false|0624|     006|   6|            69|      11|        null|        null|2020|09/29/2020 03:53:...|    null|     null|    null|  1|\n",
            "|12178369|   JD382021|2020-08-29 14:00:00|     0000X E 99TH PL|4387|     OTHER OFFENSE|VIOLATE ORDER OF ...|           RESIDENCE| false|    true|0511|     005|   9|            49|      26|        null|        null|2020|09/29/2020 03:53:...|    null|     null|    null|  1|\n",
            "|12179107|   JD382852|2020-08-02 19:46:00|    034XX W 116TH PL|1310|   CRIMINAL DAMAGE|         TO PROPERTY|           RESIDENCE| false|   false|2211|     022|  19|            74|      14|        null|        null|2020|09/29/2020 03:53:...|    null|     null|    null|  1|\n",
            "|12178761|   JD382444|2020-08-25 16:00:00|054XX W VAN BUREN ST|1130|DECEPTIVE PRACTICE|FRAUD OR CONFIDEN...|           RESIDENCE| false|   false|1522|     015|  29|            25|      11|        null|        null|2020|09/29/2020 03:53:...|    null|     null|    null|  1|\n",
            "|12178615|   JD382351|2020-01-10 12:00:00|061XX N MAPLEWOOD...|1154|DECEPTIVE PRACTICE|FINANCIAL IDENTIT...|              STREET| false|   false|2413|     024|  40|             2|      11|        null|        null|2020|09/29/2020 03:53:...|    null|     null|    null|  1|\n",
            "+--------+-----------+-------------------+--------------------+----+------------------+--------------------+--------------------+------+--------+----+--------+----+--------------+--------+------------+------------+----+--------------------+--------+---------+--------+---+\n",
            "only showing top 5 rows\n",
            "\n"
          ],
          "name": "stdout"
        }
      ]
    },
    {
      "cell_type": "markdown",
      "metadata": {
        "id": "Izm0B7p67igh"
      },
      "source": [
        "** Remove the column IUCR **"
      ]
    },
    {
      "cell_type": "code",
      "metadata": {
        "id": "WPCBB0PL7jI_",
        "outputId": "56bef44c-19f6-4661-ce62-c34551729405",
        "colab": {
          "base_uri": "https://localhost:8080/",
          "height": 226
        }
      },
      "source": [
        "rc.drop(col(\"IUCR\")).show(5)"
      ],
      "execution_count": null,
      "outputs": [
        {
          "output_type": "stream",
          "text": [
            "+--------+-----------+-------------------+--------------------+------------------+--------------------+--------------------+------+--------+----+--------+----+--------------+--------+------------+------------+----+--------------------+--------+---------+--------+\n",
            "|      ID|Case Number|               Date|               Block|      Primary Type|         Description|Location Description|Arrest|Domestic|Beat|District|Ward|Community Area|FBI Code|X Coordinate|Y Coordinate|Year|          Updated On|Latitude|Longitude|Location|\n",
            "+--------+-----------+-------------------+--------------------+------------------+--------------------+--------------------+------+--------+----+--------+----+--------------+--------+------------+------------+----+--------------------+--------+---------+--------+\n",
            "|12178298|   JD376412|2020-08-10 08:00:00| 078XX S LANGLEY AVE|DECEPTIVE PRACTICE|FRAUD OR CONFIDEN...|           RESIDENCE| false|   false|0624|     006|   6|            69|      11|        null|        null|2020|09/29/2020 03:53:...|    null|     null|    null|\n",
            "|12178369|   JD382021|2020-08-29 14:00:00|     0000X E 99TH PL|     OTHER OFFENSE|VIOLATE ORDER OF ...|           RESIDENCE| false|    true|0511|     005|   9|            49|      26|        null|        null|2020|09/29/2020 03:53:...|    null|     null|    null|\n",
            "|12179107|   JD382852|2020-08-02 19:46:00|    034XX W 116TH PL|   CRIMINAL DAMAGE|         TO PROPERTY|           RESIDENCE| false|   false|2211|     022|  19|            74|      14|        null|        null|2020|09/29/2020 03:53:...|    null|     null|    null|\n",
            "|12178761|   JD382444|2020-08-25 16:00:00|054XX W VAN BUREN ST|DECEPTIVE PRACTICE|FRAUD OR CONFIDEN...|           RESIDENCE| false|   false|1522|     015|  29|            25|      11|        null|        null|2020|09/29/2020 03:53:...|    null|     null|    null|\n",
            "|12178615|   JD382351|2020-01-10 12:00:00|061XX N MAPLEWOOD...|DECEPTIVE PRACTICE|FINANCIAL IDENTIT...|              STREET| false|   false|2413|     024|  40|             2|      11|        null|        null|2020|09/29/2020 03:53:...|    null|     null|    null|\n",
            "+--------+-----------+-------------------+--------------------+------------------+--------------------+--------------------+------+--------+----+--------+----+--------------+--------+------------+------------+----+--------------------+--------+---------+--------+\n",
            "only showing top 5 rows\n",
            "\n"
          ],
          "name": "stdout"
        }
      ]
    },
    {
      "cell_type": "code",
      "metadata": {
        "id": "HAIYVrNN7j-J",
        "outputId": "9c896816-5ef0-4a3c-aab3-6aefa6798c37",
        "colab": {
          "base_uri": "https://localhost:8080/",
          "height": 34
        }
      },
      "source": [
        "rc.count()"
      ],
      "execution_count": null,
      "outputs": [
        {
          "output_type": "execute_result",
          "data": {
            "text/plain": [
              "140050"
            ]
          },
          "metadata": {
            "tags": []
          },
          "execution_count": 24
        }
      ]
    },
    {
      "cell_type": "markdown",
      "metadata": {
        "id": "j2cTG_947ki_"
      },
      "source": [
        "## Working with rows"
      ]
    },
    {
      "cell_type": "markdown",
      "metadata": {
        "id": "E-5R6Mk08C4r"
      },
      "source": [
        "**Add the reported crimes for an additional day, 02-September-2020, to our dataset.**"
      ]
    },
    {
      "cell_type": "code",
      "metadata": {
        "id": "yb5IpWlt72Lu",
        "outputId": "0d46ab49-c2e3-4ddc-f931-d4045775e25d",
        "colab": {
          "base_uri": "https://localhost:8080/",
          "height": 34
        }
      },
      "source": [
        "one_day = spark.read.csv('reported-crimes.csv',header=True).withColumn('Date',to_timestamp(col('Date'),'MM/dd/yyyy hh:mm:ss a')).filter(col('Date') == lit('2020-09-02'))\n",
        "one_day.count()\n"
      ],
      "execution_count": null,
      "outputs": [
        {
          "output_type": "execute_result",
          "data": {
            "text/plain": [
              "7"
            ]
          },
          "metadata": {
            "tags": []
          },
          "execution_count": 25
        }
      ]
    },
    {
      "cell_type": "code",
      "metadata": {
        "id": "S06KRLX68BSV",
        "outputId": "74063273-bcf4-477d-d7d8-2b917a79d148",
        "colab": {
          "base_uri": "https://localhost:8080/",
          "height": 226
        }
      },
      "source": [
        "rc = rc.union(one_day)\n",
        "rc.show(5)"
      ],
      "execution_count": null,
      "outputs": [
        {
          "output_type": "stream",
          "text": [
            "+--------+-----------+-------------------+--------------------+----+------------------+--------------------+--------------------+------+--------+----+--------+----+--------------+--------+------------+------------+----+--------------------+--------+---------+--------+\n",
            "|      ID|Case Number|               Date|               Block|IUCR|      Primary Type|         Description|Location Description|Arrest|Domestic|Beat|District|Ward|Community Area|FBI Code|X Coordinate|Y Coordinate|Year|          Updated On|Latitude|Longitude|Location|\n",
            "+--------+-----------+-------------------+--------------------+----+------------------+--------------------+--------------------+------+--------+----+--------+----+--------------+--------+------------+------------+----+--------------------+--------+---------+--------+\n",
            "|12178298|   JD376412|2020-08-10 08:00:00| 078XX S LANGLEY AVE|1130|DECEPTIVE PRACTICE|FRAUD OR CONFIDEN...|           RESIDENCE| false|   false|0624|     006|   6|            69|      11|        null|        null|2020|09/29/2020 03:53:...|    null|     null|    null|\n",
            "|12178369|   JD382021|2020-08-29 14:00:00|     0000X E 99TH PL|4387|     OTHER OFFENSE|VIOLATE ORDER OF ...|           RESIDENCE| false|    true|0511|     005|   9|            49|      26|        null|        null|2020|09/29/2020 03:53:...|    null|     null|    null|\n",
            "|12179107|   JD382852|2020-08-02 19:46:00|    034XX W 116TH PL|1310|   CRIMINAL DAMAGE|         TO PROPERTY|           RESIDENCE| false|   false|2211|     022|  19|            74|      14|        null|        null|2020|09/29/2020 03:53:...|    null|     null|    null|\n",
            "|12178761|   JD382444|2020-08-25 16:00:00|054XX W VAN BUREN ST|1130|DECEPTIVE PRACTICE|FRAUD OR CONFIDEN...|           RESIDENCE| false|   false|1522|     015|  29|            25|      11|        null|        null|2020|09/29/2020 03:53:...|    null|     null|    null|\n",
            "|12178615|   JD382351|2020-01-10 12:00:00|061XX N MAPLEWOOD...|1154|DECEPTIVE PRACTICE|FINANCIAL IDENTIT...|              STREET| false|   false|2413|     024|  40|             2|      11|        null|        null|2020|09/29/2020 03:53:...|    null|     null|    null|\n",
            "+--------+-----------+-------------------+--------------------+----+------------------+--------------------+--------------------+------+--------+----+--------+----+--------------+--------+------------+------------+----+--------------------+--------+---------+--------+\n",
            "only showing top 5 rows\n",
            "\n"
          ],
          "name": "stdout"
        }
      ]
    },
    {
      "cell_type": "code",
      "metadata": {
        "id": "N40Une3S8A91",
        "outputId": "867cddc1-a5fd-42a7-fa88-34dff2ebee22",
        "colab": {
          "base_uri": "https://localhost:8080/",
          "height": 34
        }
      },
      "source": [
        "rc.count()"
      ],
      "execution_count": null,
      "outputs": [
        {
          "output_type": "execute_result",
          "data": {
            "text/plain": [
              "140057"
            ]
          },
          "metadata": {
            "tags": []
          },
          "execution_count": 27
        }
      ]
    },
    {
      "cell_type": "code",
      "metadata": {
        "id": "PYXfKHz_c_BD",
        "outputId": "1fa2ee00-449e-424a-a7d6-e0501873e9d0",
        "colab": {
          "base_uri": "https://localhost:8080/",
          "height": 35
        }
      },
      "source": [
        ""
      ],
      "execution_count": null,
      "outputs": [
        {
          "output_type": "execute_result",
          "data": {
            "text/plain": [
              "6841687"
            ]
          },
          "metadata": {
            "tags": []
          },
          "execution_count": 54
        }
      ]
    },
    {
      "cell_type": "code",
      "metadata": {
        "id": "y0pk9J3NdAUk",
        "outputId": "7a3b2219-c93a-4d14-99b7-629725647721",
        "colab": {
          "base_uri": "https://localhost:8080/",
          "height": 228
        }
      },
      "source": [
        ""
      ],
      "execution_count": null,
      "outputs": [
        {
          "output_type": "stream",
          "text": [
            "+--------+-----------+-------------------+--------------------+----+--------------------+--------------+--------------------+------+--------+----+--------+----+--------------+--------+------------+------------+----+--------------------+------------+-------------+--------------------+--------------------------+---------+---------------+-------------+-----+----------------------+----------------+------------+\n",
            "|      ID|Case Number|               Date|               Block|IUCR|        Primary Type|   Description|Location Description|Arrest|Domestic|Beat|District|Ward|Community Area|FBI Code|X Coordinate|Y Coordinate|Year|          Updated On|    Latitude|    Longitude|            Location|Historical Wards 2003-2015|Zip Codes|Community Areas|Census Tracts|Wards|Boundaries - ZIP Codes|Police Districts|Police Beats|\n",
            "+--------+-----------+-------------------+--------------------+----+--------------------+--------------+--------------------+------+--------+----+--------+----+--------------+--------+------------+------------+----+--------------------+------------+-------------+--------------------+--------------------------+---------+---------------+-------------+-----+----------------------+----------------+------------+\n",
            "|11642032|   JC208538|2019-04-02 00:00:00|042XX N CLAREMONT...|0910| MOTOR VEHICLE THEFT|    AUTOMOBILE|              STREET| false|   false|1911|     019|  47|             5|      07|     1159938|     1928231|2019|04/09/2019 04:24:...|41.958778759|-87.687394785|(41.958778759, -8...|                        13|    21538|             46|          623|   18|                    39|               5|          10|\n",
            "|11643196|   JC209905|2019-04-02 00:00:00|021XX W CHARLESTO...|0810|               THEFT|     OVER $500|              STREET| false|   false|1432|     014|  32|            22|      06|     1161772|     1914104|2019|04/09/2019 04:24:...|41.919975303|-87.681047469|(41.919975303, -8...|                        16|    22535|             23|          178|   40|                     1|               7|         180|\n",
            "|11660797|   JC225891|2019-04-02 00:00:00|080XX S MARYLAND AVE|1750|OFFENSE INVOLVING...|   CHILD ABUSE|           RESIDENCE| false|   false|0631|     006|   8|            44|     08B|     1183299|     1851867|2019|04/26/2019 04:03:...|41.748716415|-87.603896425|(41.748716415, -8...|                         9|    21546|             40|          247|   35|                    61|              20|         235|\n",
            "|11651015|   JC219530|2019-04-02 00:00:00| 093XX S CALUMET AVE|0281| CRIM SEXUAL ASSAULT|NON-AGGRAVATED|           RESIDENCE| false|    true|0633|     006|   9|            49|      02|     1180223|     1843182|2019|04/13/2019 03:55:...|41.724954751|-87.615433374|(41.724954751, -8...|                        31|    21546|             45|          554|   43|                    61|              20|         248|\n",
            "|11642476|   JC209092|2019-04-02 00:00:00|  054XX S SAWYER AVE|0820|               THEFT|$500 AND UNDER|              STREET| false|   false|0822|     008|  14|            63|      06|     1155638|     1868391|2019|04/09/2019 04:24:...|41.794659577|-87.704814347|(41.794659577, -8...|                        49|    22248|             61|          776|    8|                    56|              13|         129|\n",
            "+--------+-----------+-------------------+--------------------+----+--------------------+--------------+--------------------+------+--------+----+--------+----+--------------+--------+------------+------------+----+--------------------+------------+-------------+--------------------+--------------------------+---------+---------------+-------------+-----+----------------------+----------------+------------+\n",
            "only showing top 5 rows\n",
            "\n"
          ],
          "name": "stdout"
        }
      ]
    },
    {
      "cell_type": "markdown",
      "metadata": {
        "id": "7UPiRyk78ERU"
      },
      "source": [
        "**What are the top 10 number of reported crimes by Primary type, in descending order of occurence?**"
      ]
    },
    {
      "cell_type": "code",
      "metadata": {
        "id": "z-UnvpBX8IlX",
        "outputId": "fe2d1e21-b651-4a7b-bc84-000840bcbcff",
        "colab": {
          "base_uri": "https://localhost:8080/",
          "height": 291
        }
      },
      "source": [
        "rc.groupBy(col(\"Primary type\")).count().orderBy(col(\"count\"),ascending=False).show(10)"
      ],
      "execution_count": null,
      "outputs": [
        {
          "output_type": "stream",
          "text": [
            "+-------------------+-----+\n",
            "|       Primary type|count|\n",
            "+-------------------+-----+\n",
            "|            BATTERY|28833|\n",
            "|              THEFT|28071|\n",
            "|    CRIMINAL DAMAGE|16952|\n",
            "|            ASSAULT|12391|\n",
            "| DECEPTIVE PRACTICE| 8994|\n",
            "|      OTHER OFFENSE| 8435|\n",
            "|           BURGLARY| 6296|\n",
            "|MOTOR VEHICLE THEFT| 6145|\n",
            "|  WEAPONS VIOLATION| 5237|\n",
            "|            ROBBERY| 5034|\n",
            "+-------------------+-----+\n",
            "only showing top 10 rows\n",
            "\n"
          ],
          "name": "stdout"
        }
      ]
    },
    {
      "cell_type": "code",
      "metadata": {
        "id": "83nMbtdm8ITE",
        "outputId": "9dec7651-9aed-4522-d43a-df95bc7fd540",
        "colab": {
          "base_uri": "https://localhost:8080/",
          "height": 468
        }
      },
      "source": [
        ""
      ],
      "execution_count": null,
      "outputs": [
        {
          "output_type": "stream",
          "text": [
            "+--------------------+-------+\n",
            "|        Primary type|  count|\n",
            "+--------------------+-------+\n",
            "|               THEFT|1440495|\n",
            "|             BATTERY|1249262|\n",
            "|     CRIMINAL DAMAGE| 780494|\n",
            "|           NARCOTICS| 716461|\n",
            "|             ASSAULT| 425573|\n",
            "|       OTHER OFFENSE| 425091|\n",
            "|            BURGLARY| 391699|\n",
            "| MOTOR VEHICLE THEFT| 317694|\n",
            "|  DECEPTIVE PRACTICE| 270421|\n",
            "|             ROBBERY| 258609|\n",
            "|   CRIMINAL TRESPASS| 195803|\n",
            "|   WEAPONS VIOLATION|  72699|\n",
            "|        PROSTITUTION|  68564|\n",
            "|PUBLIC PEACE VIOL...|  48315|\n",
            "|OFFENSE INVOLVING...|  46274|\n",
            "| CRIM SEXUAL ASSAULT|  27851|\n",
            "|         SEX OFFENSE|  25612|\n",
            "|INTERFERENCE WITH...|  15601|\n",
            "|            GAMBLING|  14438|\n",
            "|LIQUOR LAW VIOLATION|  14130|\n",
            "+--------------------+-------+\n",
            "only showing top 20 rows\n",
            "\n"
          ],
          "name": "stdout"
        }
      ]
    },
    {
      "cell_type": "code",
      "metadata": {
        "id": "Km6bTx308H4I"
      },
      "source": [
        ""
      ],
      "execution_count": null,
      "outputs": []
    },
    {
      "cell_type": "markdown",
      "metadata": {
        "id": "KtHLIEg5dfjO"
      },
      "source": [
        "## Challenge questions"
      ]
    },
    {
      "cell_type": "markdown",
      "metadata": {
        "id": "c45S4AEkdj5O"
      },
      "source": [
        "**What percentage of reported crimes resulted in an arrest?**"
      ]
    },
    {
      "cell_type": "code",
      "metadata": {
        "id": "klBPv5JqdjDS",
        "outputId": "ee989082-ee74-49a7-861e-7cb3878d2fd7",
        "colab": {
          "base_uri": "https://localhost:8080/",
          "height": 34
        }
      },
      "source": [
        "rc.filter(col(\"Arrest\")==\"true\").count()/rc.count()"
      ],
      "execution_count": null,
      "outputs": [
        {
          "output_type": "execute_result",
          "data": {
            "text/plain": [
              "0.16365479768951213"
            ]
          },
          "metadata": {
            "tags": []
          },
          "execution_count": 29
        }
      ]
    },
    {
      "cell_type": "markdown",
      "metadata": {
        "id": "VVndxpb1dmiy"
      },
      "source": [
        "  **What are the top 3 locations for reported crimes?**"
      ]
    },
    {
      "cell_type": "code",
      "metadata": {
        "id": "U1AopR7ofBQW",
        "outputId": "90819f63-f8e3-44f9-9b23-626721432c4c",
        "colab": {
          "base_uri": "https://localhost:8080/",
          "height": 171
        }
      },
      "source": [
        "rc.groupBy(col(\"Location Description\")).count().orderBy(col(\"count\"),ascending=False).show(3)"
      ],
      "execution_count": null,
      "outputs": [
        {
          "output_type": "stream",
          "text": [
            "+--------------------+-----+\n",
            "|Location Description|count|\n",
            "+--------------------+-----+\n",
            "|              STREET|32967|\n",
            "|           RESIDENCE|24083|\n",
            "|           APARTMENT|23216|\n",
            "+--------------------+-----+\n",
            "only showing top 3 rows\n",
            "\n"
          ],
          "name": "stdout"
        }
      ]
    },
    {
      "cell_type": "code",
      "metadata": {
        "id": "fzXNvJJNfMTn"
      },
      "source": [
        ""
      ],
      "execution_count": null,
      "outputs": []
    },
    {
      "cell_type": "markdown",
      "metadata": {
        "id": "IqvIxUPhfpGF"
      },
      "source": [
        "## Built-in functions"
      ]
    },
    {
      "cell_type": "code",
      "metadata": {
        "id": "f59CT12RfrE9"
      },
      "source": [
        "from pyspark.sql import functions"
      ],
      "execution_count": null,
      "outputs": []
    },
    {
      "cell_type": "code",
      "metadata": {
        "id": "8JQ7mKzKfuiM",
        "outputId": "bde479f6-84dd-41ed-950d-5e32f048d57c",
        "colab": {
          "base_uri": "https://localhost:8080/",
          "height": 54
        }
      },
      "source": [
        "print(dir(functions))"
      ],
      "execution_count": null,
      "outputs": [
        {
          "output_type": "stream",
          "text": [
            "['AutoBatchedSerializer', 'Column', 'DataFrame', 'DataType', 'PandasUDFType', 'PickleSerializer', 'PythonEvalType', 'SparkContext', 'StringType', 'UserDefinedFunction', '__all__', '__builtins__', '__cached__', '__doc__', '__file__', '__loader__', '__name__', '__package__', '__spec__', '_binary_mathfunctions', '_collect_list_doc', '_collect_set_doc', '_create_binary_mathfunction', '_create_function', '_create_udf', '_create_window_function', '_functions', '_functions_1_4', '_functions_1_6', '_functions_2_1', '_functions_deprecated', '_lit_doc', '_message', '_string_functions', '_test', '_to_java_column', '_to_seq', '_window_functions', '_wrap_deprecated_function', 'abs', 'acos', 'add_months', 'approxCountDistinct', 'approx_count_distinct', 'array', 'array_contains', 'asc', 'ascii', 'asin', 'atan', 'atan2', 'avg', 'base64', 'bin', 'bitwiseNOT', 'blacklist', 'broadcast', 'bround', 'cbrt', 'ceil', 'coalesce', 'col', 'collect_list', 'collect_set', 'column', 'concat', 'concat_ws', 'conv', 'corr', 'cos', 'cosh', 'count', 'countDistinct', 'covar_pop', 'covar_samp', 'crc32', 'create_map', 'cume_dist', 'current_date', 'current_timestamp', 'date_add', 'date_format', 'date_sub', 'date_trunc', 'datediff', 'dayofmonth', 'dayofweek', 'dayofyear', 'decode', 'degrees', 'dense_rank', 'desc', 'encode', 'exp', 'explode', 'explode_outer', 'expm1', 'expr', 'factorial', 'first', 'floor', 'format_number', 'format_string', 'from_json', 'from_unixtime', 'from_utc_timestamp', 'functools', 'get_json_object', 'greatest', 'grouping', 'grouping_id', 'hash', 'hex', 'hour', 'hypot', 'ignore_unicode_prefix', 'initcap', 'input_file_name', 'instr', 'isnan', 'isnull', 'json_tuple', 'kurtosis', 'lag', 'last', 'last_day', 'lead', 'least', 'length', 'levenshtein', 'lit', 'locate', 'log', 'log10', 'log1p', 'log2', 'lower', 'lpad', 'ltrim', 'map_keys', 'map_values', 'math', 'max', 'md5', 'mean', 'min', 'minute', 'monotonically_increasing_id', 'month', 'months_between', 'nanvl', 'next_day', 'ntile', 'pandas_udf', 'percent_rank', 'posexplode', 'posexplode_outer', 'pow', 'quarter', 'radians', 'rand', 'randn', 'rank', 'regexp_extract', 'regexp_replace', 'repeat', 'reverse', 'rint', 'round', 'row_number', 'rpad', 'rtrim', 'second', 'sha1', 'sha2', 'shiftLeft', 'shiftRight', 'shiftRightUnsigned', 'signum', 'sin', 'since', 'sinh', 'size', 'skewness', 'sort_array', 'soundex', 'spark_partition_id', 'split', 'sqrt', 'stddev', 'stddev_pop', 'stddev_samp', 'struct', 'substring', 'substring_index', 'sum', 'sumDistinct', 'sys', 'tan', 'tanh', 'toDegrees', 'toRadians', 'to_date', 'to_json', 'to_timestamp', 'to_utc_timestamp', 'translate', 'trim', 'trunc', 'udf', 'unbase64', 'unhex', 'unix_timestamp', 'upper', 'var_pop', 'var_samp', 'variance', 'warnings', 'weekofyear', 'when', 'window', 'year']\n"
          ],
          "name": "stdout"
        }
      ]
    },
    {
      "cell_type": "markdown",
      "metadata": {
        "id": "iRFwzawof6H8"
      },
      "source": [
        "## String functions"
      ]
    },
    {
      "cell_type": "markdown",
      "metadata": {
        "id": "qc8m932Kf8s8"
      },
      "source": [
        "**Display the Primary Type column in lower and upper characters, and the first 4 characters of the column**"
      ]
    },
    {
      "cell_type": "code",
      "metadata": {
        "id": "EzPJpPnffwOt"
      },
      "source": [
        "from pyspark.sql.functions import lower,upper,substring"
      ],
      "execution_count": null,
      "outputs": []
    },
    {
      "cell_type": "code",
      "metadata": {
        "id": "k5kFO4_oje9I",
        "outputId": "f5c6aa68-2e52-474e-951e-466c28172793",
        "colab": {
          "base_uri": "https://localhost:8080/",
          "height": 137
        }
      },
      "source": [
        "help(lower)"
      ],
      "execution_count": null,
      "outputs": [
        {
          "output_type": "stream",
          "text": [
            "Help on function lower in module pyspark.sql.functions:\n",
            "\n",
            "lower(col)\n",
            "    Converts a string column to lower case.\n",
            "    \n",
            "    .. versionadded:: 1.5\n",
            "\n"
          ],
          "name": "stdout"
        }
      ]
    },
    {
      "cell_type": "code",
      "metadata": {
        "id": "B-pu3xH2jxN_",
        "outputId": "9b253b9f-1d0d-465b-d6d1-57b80fbca6b0",
        "colab": {
          "base_uri": "https://localhost:8080/",
          "height": 483
        }
      },
      "source": [
        "rc.withColumn(\"New_Col\",rc[\"Primary Type\"].substr(1,5)).show()"
      ],
      "execution_count": null,
      "outputs": [
        {
          "output_type": "stream",
          "text": [
            "+--------+-----------+-------------------+--------------------+----+------------------+--------------------+--------------------+------+--------+----+--------+----+--------------+--------+------------+------------+----+--------------------+--------+---------+--------+-------+\n",
            "|      ID|Case Number|               Date|               Block|IUCR|      Primary Type|         Description|Location Description|Arrest|Domestic|Beat|District|Ward|Community Area|FBI Code|X Coordinate|Y Coordinate|Year|          Updated On|Latitude|Longitude|Location|New_Col|\n",
            "+--------+-----------+-------------------+--------------------+----+------------------+--------------------+--------------------+------+--------+----+--------+----+--------------+--------+------------+------------+----+--------------------+--------+---------+--------+-------+\n",
            "|12178298|   JD376412|2020-08-10 08:00:00| 078XX S LANGLEY AVE|1130|DECEPTIVE PRACTICE|FRAUD OR CONFIDEN...|           RESIDENCE| false|   false|0624|     006|   6|            69|      11|        null|        null|2020|09/29/2020 03:53:...|    null|     null|    null|  DECEP|\n",
            "|12178369|   JD382021|2020-08-29 14:00:00|     0000X E 99TH PL|4387|     OTHER OFFENSE|VIOLATE ORDER OF ...|           RESIDENCE| false|    true|0511|     005|   9|            49|      26|        null|        null|2020|09/29/2020 03:53:...|    null|     null|    null|  OTHER|\n",
            "|12179107|   JD382852|2020-08-02 19:46:00|    034XX W 116TH PL|1310|   CRIMINAL DAMAGE|         TO PROPERTY|           RESIDENCE| false|   false|2211|     022|  19|            74|      14|        null|        null|2020|09/29/2020 03:53:...|    null|     null|    null|  CRIMI|\n",
            "|12178761|   JD382444|2020-08-25 16:00:00|054XX W VAN BUREN ST|1130|DECEPTIVE PRACTICE|FRAUD OR CONFIDEN...|           RESIDENCE| false|   false|1522|     015|  29|            25|      11|        null|        null|2020|09/29/2020 03:53:...|    null|     null|    null|  DECEP|\n",
            "|12178615|   JD382351|2020-01-10 12:00:00|061XX N MAPLEWOOD...|1154|DECEPTIVE PRACTICE|FINANCIAL IDENTIT...|              STREET| false|   false|2413|     024|  40|             2|      11|        null|        null|2020|09/29/2020 03:53:...|    null|     null|    null|  DECEP|\n",
            "|12178828|   JD382507|2020-07-30 22:00:00|026XX S CENTRAL P...|0486|           BATTERY|DOMESTIC BATTERY ...|           RESIDENCE| false|   false|1032|     010|  22|            30|     08B|        null|        null|2020|09/29/2020 03:53:...|    null|     null|    null|  BATTE|\n",
            "|12178286|   JD381895|2020-08-23 12:00:00|036XX S FRANCISCO...|0810|             THEFT|           OVER $500|           RESIDENCE| false|   false|0911|     009|  12|            58|      06|        null|        null|2020|09/29/2020 03:53:...|    null|     null|    null|  THEFT|\n",
            "|12174483|   JD109988|2020-01-09 14:08:00|074XX S PHILLIPS AVE|1822|         NARCOTICS|MANUFACTURE / DEL...|           APARTMENT| false|   false|0334|     003|   7|            43|      18|        null|        null|2020|09/29/2020 03:53:...|    null|     null|    null|  NARCO|\n",
            "|12178494|   JD382134|2020-07-24 15:00:00|062XX S MICHIGAN AVE|0810|             THEFT|           OVER $500|     OTHER (SPECIFY)| false|   false|0311|     003|  20|            40|      06|        null|        null|2020|09/29/2020 03:53:...|    null|     null|    null|  THEFT|\n",
            "|12178343|   JD381939|2020-07-16 09:00:00|081XX S PRAIRIE P...|1150|DECEPTIVE PRACTICE|   CREDIT CARD FRAUD|           RESIDENCE| false|   false|0631|     006|   6|            44|      11|        null|        null|2020|09/29/2020 03:53:...|    null|     null|    null|  DECEP|\n",
            "|12178815|   JD381943|2020-08-26 09:20:00|045XX N HERMITAGE...|1154|DECEPTIVE PRACTICE|FINANCIAL IDENTIT...|                null| false|   false|1912|     019|  47|             3|      11|        null|        null|2020|09/29/2020 03:53:...|    null|     null|    null|  DECEP|\n",
            "|12178763|   JD382566|2020-08-01 09:00:00|  081XX S VERNON AVE|1130|DECEPTIVE PRACTICE|FRAUD OR CONFIDEN...|           RESIDENCE| false|   false|0631|     006|   6|            44|      11|        null|        null|2020|09/29/2020 03:53:...|    null|     null|    null|  DECEP|\n",
            "|12178289|   JD381933|2020-06-20 12:00:00|   085XX S PEORIA ST|0820|             THEFT|      $500 AND UNDER|           RESIDENCE| false|   false|0613|     006|  21|            71|      06|        null|        null|2020|09/29/2020 03:53:...|    null|     null|    null|  THEFT|\n",
            "|12178551|   JD382060|2020-08-24 01:00:00|     018XX E 72ND ST|0820|             THEFT|      $500 AND UNDER|           APARTMENT| false|   false|0324|     003|   7|            43|      06|        null|        null|2020|09/29/2020 03:53:...|    null|     null|    null|  THEFT|\n",
            "|12178823|   JD382592|2020-08-28 09:00:00|     001XX E 45TH ST|2825|     OTHER OFFENSE|HARASSMENT BY TEL...|           RESIDENCE| false|    true|0215|     002|   3|            38|      26|        null|        null|2020|09/29/2020 03:53:...|    null|     null|    null|  OTHER|\n",
            "|12179003|   JD382626|2020-06-04 00:00:00|044XX W MARQUETTE RD|4387|     OTHER OFFENSE|VIOLATE ORDER OF ...|           RESIDENCE| false|   false|0833|     008|  13|            65|      26|        null|        null|2020|09/29/2020 03:53:...|    null|     null|    null|  OTHER|\n",
            "|12178461|   JD382156|2020-02-25 11:00:00|016XX N MERRIMAC AVE|1153|DECEPTIVE PRACTICE|FINANCIAL IDENTIT...|           RESIDENCE| false|   false|2513|     025|  29|            25|      11|        null|        null|2020|09/29/2020 03:53:...|    null|     null|    null|  DECEP|\n",
            "|12178799|   JD381712|2020-08-28 22:55:00|019XX W MONTROSE AVE|0890|             THEFT|       FROM BUILDING|           APARTMENT| false|   false|1912|     019|  47|             4|      06|        null|        null|2020|09/29/2020 03:53:...|    null|     null|    null|  THEFT|\n",
            "|12178362|   JD381966|2020-07-21 08:00:00|    030XX S CANAL ST|5001|     OTHER OFFENSE|OTHER CRIME INVOL...|           RESIDENCE| false|   false|0914|     009|  11|            60|      26|        null|        null|2020|09/29/2020 03:53:...|    null|     null|    null|  OTHER|\n",
            "|12178767|   JD381128|2020-05-14 13:00:00|    067XX W IMLAY ST|0486|           BATTERY|DOMESTIC BATTERY ...|           RESIDENCE| false|    true|1611|     016|  41|            10|     08B|        null|        null|2020|09/29/2020 03:53:...|    null|     null|    null|  BATTE|\n",
            "+--------+-----------+-------------------+--------------------+----+------------------+--------------------+--------------------+------+--------+----+--------+----+--------------+--------+------------+------------+----+--------------------+--------+---------+--------+-------+\n",
            "only showing top 20 rows\n",
            "\n"
          ],
          "name": "stdout"
        }
      ]
    },
    {
      "cell_type": "code",
      "metadata": {
        "id": "473jkT5R4q3K"
      },
      "source": [
        ""
      ],
      "execution_count": null,
      "outputs": []
    },
    {
      "cell_type": "markdown",
      "metadata": {
        "id": "s23eyffc6x5C"
      },
      "source": [
        "# MLLib with Apache Spark"
      ]
    },
    {
      "cell_type": "code",
      "metadata": {
        "id": "is0uztZo60qv"
      },
      "source": [
        "train_data_path = \"/content/sample_data/california_housing_train.csv\"\n",
        "test_data_path = \"/content/sample_data/california_housing_test.csv\""
      ],
      "execution_count": null,
      "outputs": []
    },
    {
      "cell_type": "code",
      "metadata": {
        "id": "a4RrKXLL7Vqq"
      },
      "source": [
        "# creating a spark session\n",
        "from pyspark.sql import SparkSession\n",
        "spark = SparkSession.builder.getOrCreate()"
      ],
      "execution_count": null,
      "outputs": []
    },
    {
      "cell_type": "code",
      "metadata": {
        "id": "gW0jiJd77nXf"
      },
      "source": [
        "#load data\n",
        "train =  spark.read.csv(train_data_path,header=True,inferSchema=True)\n",
        "test = spark.read.csv(test_data_path,header=True,inferSchema=True)"
      ],
      "execution_count": null,
      "outputs": []
    },
    {
      "cell_type": "code",
      "metadata": {
        "id": "17XLElIF7683",
        "outputId": "4bfc0b85-665b-42c2-a8a6-981d1160d96a",
        "colab": {
          "base_uri": "https://localhost:8080/",
          "height": 206
        }
      },
      "source": [
        "train.show(5)"
      ],
      "execution_count": null,
      "outputs": [
        {
          "output_type": "stream",
          "text": [
            "+---------+--------+------------------+-----------+--------------+----------+----------+-------------+------------------+\n",
            "|longitude|latitude|housing_median_age|total_rooms|total_bedrooms|population|households|median_income|median_house_value|\n",
            "+---------+--------+------------------+-----------+--------------+----------+----------+-------------+------------------+\n",
            "|  -114.31|   34.19|              15.0|     5612.0|        1283.0|    1015.0|     472.0|       1.4936|           66900.0|\n",
            "|  -114.47|    34.4|              19.0|     7650.0|        1901.0|    1129.0|     463.0|         1.82|           80100.0|\n",
            "|  -114.56|   33.69|              17.0|      720.0|         174.0|     333.0|     117.0|       1.6509|           85700.0|\n",
            "|  -114.57|   33.64|              14.0|     1501.0|         337.0|     515.0|     226.0|       3.1917|           73400.0|\n",
            "|  -114.57|   33.57|              20.0|     1454.0|         326.0|     624.0|     262.0|        1.925|           65500.0|\n",
            "+---------+--------+------------------+-----------+--------------+----------+----------+-------------+------------------+\n",
            "only showing top 5 rows\n",
            "\n"
          ],
          "name": "stdout"
        }
      ]
    },
    {
      "cell_type": "code",
      "metadata": {
        "id": "TQailXHE78pJ"
      },
      "source": [
        "# creating a feature array\n",
        "feature_columns = train.columns[2:-1]\n",
        "\n",
        "from pyspark.ml.feature import VectorAssembler\n",
        "assembler = VectorAssembler(inputCols=feature_columns,outputCol=\"features\")\n",
        "train2 = assembler.transform(train)\n",
        "train2.show(5)"
      ],
      "execution_count": null,
      "outputs": []
    },
    {
      "cell_type": "markdown",
      "metadata": {
        "id": "Ad0sKAN394CZ"
      },
      "source": [
        "# applying Linear Regression"
      ]
    },
    {
      "cell_type": "code",
      "metadata": {
        "id": "DiAWV3vc93NG"
      },
      "source": [
        "from pyspark.ml.regression import LinearRegression\n",
        "algo = LinearRegression(featuresCol=\"features\",labelCol=\"median_house_value\")\n",
        "model = algo.fit(train2)"
      ],
      "execution_count": null,
      "outputs": []
    },
    {
      "cell_type": "code",
      "metadata": {
        "id": "YluenxZH9gVV",
        "outputId": "465ef834-e064-4970-e548-ac00f6772df7",
        "colab": {
          "base_uri": "https://localhost:8080/",
          "height": 34
        }
      },
      "source": [
        "test2 = assembler.transform(test)\n",
        "eval_result = model.evaluate(test2)"
      ],
      "execution_count": null,
      "outputs": [
        {
          "output_type": "stream",
          "text": [
            "<pyspark.ml.regression.LinearRegressionSummary object at 0x7f1d062984a8>\n"
          ],
          "name": "stdout"
        }
      ]
    },
    {
      "cell_type": "markdown",
      "metadata": {
        "id": "F_oRuB0cAz8C"
      },
      "source": [
        ""
      ]
    },
    {
      "cell_type": "code",
      "metadata": {
        "id": "vf_cXe0A-d_A",
        "outputId": "b96988cb-b956-4757-960e-c571bc5625d8",
        "colab": {
          "base_uri": "https://localhost:8080/",
          "height": 34
        }
      },
      "source": [
        "eval_result.r2"
      ],
      "execution_count": null,
      "outputs": [
        {
          "output_type": "execute_result",
          "data": {
            "text/plain": [
              "0.545883534674609"
            ]
          },
          "metadata": {
            "tags": []
          },
          "execution_count": 57
        }
      ]
    },
    {
      "cell_type": "code",
      "metadata": {
        "id": "2eU30a4O-oH4",
        "outputId": "4bf068d5-528b-488b-ee5e-d2d9a34b0dfb",
        "colab": {
          "base_uri": "https://localhost:8080/",
          "height": 34
        }
      },
      "source": [
        "eval_result.meanSquaredError"
      ],
      "execution_count": null,
      "outputs": [
        {
          "output_type": "execute_result",
          "data": {
            "text/plain": [
              "5808966246.710222"
            ]
          },
          "metadata": {
            "tags": []
          },
          "execution_count": 58
        }
      ]
    },
    {
      "cell_type": "code",
      "metadata": {
        "id": "853YxK9x-3ls"
      },
      "source": [
        ""
      ],
      "execution_count": null,
      "outputs": []
    }
  ]
}