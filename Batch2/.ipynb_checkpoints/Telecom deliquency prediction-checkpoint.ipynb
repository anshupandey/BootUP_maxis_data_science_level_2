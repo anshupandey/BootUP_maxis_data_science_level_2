{
 "cells": [
  {
   "cell_type": "markdown",
   "metadata": {},
   "source": [
    "# Telecom Deliquency Prediction"
   ]
  },
  {
   "cell_type": "markdown",
   "metadata": {},
   "source": [
    "<img src='dsflow.png'>\n"
   ]
  },
  {
   "cell_type": "markdown",
   "metadata": {},
   "source": [
    "<img src=\"Data Description.png\">"
   ]
  },
  {
   "cell_type": "code",
   "execution_count": 1,
   "metadata": {
    "collapsed": true
   },
   "outputs": [
    {
     "name": "stderr",
     "output_type": "stream",
     "text": [
      "C:\\Users\\anshu\\AppData\\Roaming\\Python\\Python37\\site-packages\\numpy\\_distributor_init.py:32: UserWarning: loaded more than 1 DLL from .libs:\n",
      "C:\\Users\\anshu\\AppData\\Roaming\\Python\\Python37\\site-packages\\numpy\\.libs\\libopenblas.GK7GX5KEQ4F6UYO3P26ULGBQYHGQO7J4.gfortran-win_amd64.dll\n",
      "C:\\Users\\anshu\\AppData\\Roaming\\Python\\Python37\\site-packages\\numpy\\.libs\\libopenblas.NOIJJG62EMASZI6NYURL6JBKM4EVBGM7.gfortran-win_amd64.dll\n",
      "  stacklevel=1)\n"
     ]
    }
   ],
   "source": [
    "import pandas as pd\n",
    "import matplotlib.pyplot as plt\n",
    "import seaborn as sns\n",
    "import numpy as np"
   ]
  },
  {
   "cell_type": "markdown",
   "metadata": {},
   "source": [
    "## 2. Data Collection & Data Exploration"
   ]
  },
  {
   "cell_type": "code",
   "execution_count": 2,
   "metadata": {},
   "outputs": [
    {
     "data": {
      "text/plain": [
       "(209593, 36)"
      ]
     },
     "execution_count": 2,
     "metadata": {},
     "output_type": "execute_result"
    }
   ],
   "source": [
    "#load data\n",
    "df = pd.read_csv(r\"E:\\MLIoT\\ML\\dataset\\telecom\\telecom deliquency\\telecom deliquency dataset.csv\")\n",
    "df.shape"
   ]
  },
  {
   "cell_type": "code",
   "execution_count": 4,
   "metadata": {
    "collapsed": true
   },
   "outputs": [
    {
     "data": {
      "text/html": [
       "<div>\n",
       "<style scoped>\n",
       "    .dataframe tbody tr th:only-of-type {\n",
       "        vertical-align: middle;\n",
       "    }\n",
       "\n",
       "    .dataframe tbody tr th {\n",
       "        vertical-align: top;\n",
       "    }\n",
       "\n",
       "    .dataframe thead th {\n",
       "        text-align: right;\n",
       "    }\n",
       "</style>\n",
       "<table border=\"1\" class=\"dataframe\">\n",
       "  <thead>\n",
       "    <tr style=\"text-align: right;\">\n",
       "      <th></th>\n",
       "      <th>0</th>\n",
       "      <th>1</th>\n",
       "      <th>2</th>\n",
       "      <th>3</th>\n",
       "      <th>4</th>\n",
       "    </tr>\n",
       "  </thead>\n",
       "  <tbody>\n",
       "    <tr>\n",
       "      <th>label</th>\n",
       "      <td>0</td>\n",
       "      <td>1</td>\n",
       "      <td>1</td>\n",
       "      <td>1</td>\n",
       "      <td>1</td>\n",
       "    </tr>\n",
       "    <tr>\n",
       "      <th>msisdn</th>\n",
       "      <td>21408I70789</td>\n",
       "      <td>76462I70374</td>\n",
       "      <td>17943I70372</td>\n",
       "      <td>55773I70781</td>\n",
       "      <td>03813I82730</td>\n",
       "    </tr>\n",
       "    <tr>\n",
       "      <th>aon</th>\n",
       "      <td>272</td>\n",
       "      <td>712</td>\n",
       "      <td>535</td>\n",
       "      <td>241</td>\n",
       "      <td>947</td>\n",
       "    </tr>\n",
       "    <tr>\n",
       "      <th>daily_decr30</th>\n",
       "      <td>3055.05</td>\n",
       "      <td>12122</td>\n",
       "      <td>1398</td>\n",
       "      <td>21.228</td>\n",
       "      <td>150.619</td>\n",
       "    </tr>\n",
       "    <tr>\n",
       "      <th>daily_decr90</th>\n",
       "      <td>3065.15</td>\n",
       "      <td>12124.8</td>\n",
       "      <td>1398</td>\n",
       "      <td>21.228</td>\n",
       "      <td>150.619</td>\n",
       "    </tr>\n",
       "    <tr>\n",
       "      <th>rental30</th>\n",
       "      <td>220.13</td>\n",
       "      <td>3691.26</td>\n",
       "      <td>900.13</td>\n",
       "      <td>159.42</td>\n",
       "      <td>1098.9</td>\n",
       "    </tr>\n",
       "    <tr>\n",
       "      <th>rental90</th>\n",
       "      <td>260.13</td>\n",
       "      <td>3691.26</td>\n",
       "      <td>900.13</td>\n",
       "      <td>159.42</td>\n",
       "      <td>1098.9</td>\n",
       "    </tr>\n",
       "    <tr>\n",
       "      <th>last_rech_date_ma</th>\n",
       "      <td>2</td>\n",
       "      <td>20</td>\n",
       "      <td>3</td>\n",
       "      <td>41</td>\n",
       "      <td>4</td>\n",
       "    </tr>\n",
       "    <tr>\n",
       "      <th>last_rech_date_da</th>\n",
       "      <td>0</td>\n",
       "      <td>0</td>\n",
       "      <td>0</td>\n",
       "      <td>0</td>\n",
       "      <td>0</td>\n",
       "    </tr>\n",
       "    <tr>\n",
       "      <th>last_rech_amt_ma</th>\n",
       "      <td>1539</td>\n",
       "      <td>5787</td>\n",
       "      <td>1539</td>\n",
       "      <td>947</td>\n",
       "      <td>2309</td>\n",
       "    </tr>\n",
       "    <tr>\n",
       "      <th>cnt_ma_rech30</th>\n",
       "      <td>2</td>\n",
       "      <td>1</td>\n",
       "      <td>1</td>\n",
       "      <td>0</td>\n",
       "      <td>7</td>\n",
       "    </tr>\n",
       "    <tr>\n",
       "      <th>fr_ma_rech30</th>\n",
       "      <td>21</td>\n",
       "      <td>0</td>\n",
       "      <td>0</td>\n",
       "      <td>0</td>\n",
       "      <td>2</td>\n",
       "    </tr>\n",
       "    <tr>\n",
       "      <th>sumamnt_ma_rech30</th>\n",
       "      <td>3078</td>\n",
       "      <td>5787</td>\n",
       "      <td>1539</td>\n",
       "      <td>0</td>\n",
       "      <td>20029</td>\n",
       "    </tr>\n",
       "    <tr>\n",
       "      <th>medianamnt_ma_rech30</th>\n",
       "      <td>1539</td>\n",
       "      <td>5787</td>\n",
       "      <td>1539</td>\n",
       "      <td>0</td>\n",
       "      <td>2309</td>\n",
       "    </tr>\n",
       "    <tr>\n",
       "      <th>medianmarechprebal30</th>\n",
       "      <td>7.5</td>\n",
       "      <td>61.04</td>\n",
       "      <td>66.32</td>\n",
       "      <td>0</td>\n",
       "      <td>29</td>\n",
       "    </tr>\n",
       "    <tr>\n",
       "      <th>cnt_ma_rech90</th>\n",
       "      <td>2</td>\n",
       "      <td>1</td>\n",
       "      <td>1</td>\n",
       "      <td>1</td>\n",
       "      <td>8</td>\n",
       "    </tr>\n",
       "    <tr>\n",
       "      <th>fr_ma_rech90</th>\n",
       "      <td>21</td>\n",
       "      <td>0</td>\n",
       "      <td>0</td>\n",
       "      <td>0</td>\n",
       "      <td>2</td>\n",
       "    </tr>\n",
       "    <tr>\n",
       "      <th>sumamnt_ma_rech90</th>\n",
       "      <td>3078</td>\n",
       "      <td>5787</td>\n",
       "      <td>1539</td>\n",
       "      <td>947</td>\n",
       "      <td>23496</td>\n",
       "    </tr>\n",
       "    <tr>\n",
       "      <th>medianamnt_ma_rech90</th>\n",
       "      <td>1539</td>\n",
       "      <td>5787</td>\n",
       "      <td>1539</td>\n",
       "      <td>947</td>\n",
       "      <td>2888</td>\n",
       "    </tr>\n",
       "    <tr>\n",
       "      <th>medianmarechprebal90</th>\n",
       "      <td>7.5</td>\n",
       "      <td>61.04</td>\n",
       "      <td>66.32</td>\n",
       "      <td>2.5</td>\n",
       "      <td>35</td>\n",
       "    </tr>\n",
       "    <tr>\n",
       "      <th>cnt_da_rech30</th>\n",
       "      <td>0</td>\n",
       "      <td>0</td>\n",
       "      <td>0</td>\n",
       "      <td>0</td>\n",
       "      <td>0</td>\n",
       "    </tr>\n",
       "    <tr>\n",
       "      <th>fr_da_rech30</th>\n",
       "      <td>0</td>\n",
       "      <td>0</td>\n",
       "      <td>0</td>\n",
       "      <td>0</td>\n",
       "      <td>0</td>\n",
       "    </tr>\n",
       "    <tr>\n",
       "      <th>cnt_da_rech90</th>\n",
       "      <td>0</td>\n",
       "      <td>0</td>\n",
       "      <td>0</td>\n",
       "      <td>0</td>\n",
       "      <td>0</td>\n",
       "    </tr>\n",
       "    <tr>\n",
       "      <th>fr_da_rech90</th>\n",
       "      <td>0</td>\n",
       "      <td>0</td>\n",
       "      <td>0</td>\n",
       "      <td>0</td>\n",
       "      <td>0</td>\n",
       "    </tr>\n",
       "    <tr>\n",
       "      <th>cnt_loans30</th>\n",
       "      <td>2</td>\n",
       "      <td>1</td>\n",
       "      <td>1</td>\n",
       "      <td>2</td>\n",
       "      <td>7</td>\n",
       "    </tr>\n",
       "    <tr>\n",
       "      <th>amnt_loans30</th>\n",
       "      <td>12</td>\n",
       "      <td>12</td>\n",
       "      <td>6</td>\n",
       "      <td>12</td>\n",
       "      <td>42</td>\n",
       "    </tr>\n",
       "    <tr>\n",
       "      <th>maxamnt_loans30</th>\n",
       "      <td>6</td>\n",
       "      <td>12</td>\n",
       "      <td>6</td>\n",
       "      <td>6</td>\n",
       "      <td>6</td>\n",
       "    </tr>\n",
       "    <tr>\n",
       "      <th>medianamnt_loans30</th>\n",
       "      <td>0</td>\n",
       "      <td>0</td>\n",
       "      <td>0</td>\n",
       "      <td>0</td>\n",
       "      <td>0</td>\n",
       "    </tr>\n",
       "    <tr>\n",
       "      <th>cnt_loans90</th>\n",
       "      <td>2</td>\n",
       "      <td>1</td>\n",
       "      <td>1</td>\n",
       "      <td>2</td>\n",
       "      <td>7</td>\n",
       "    </tr>\n",
       "    <tr>\n",
       "      <th>amnt_loans90</th>\n",
       "      <td>12</td>\n",
       "      <td>12</td>\n",
       "      <td>6</td>\n",
       "      <td>12</td>\n",
       "      <td>42</td>\n",
       "    </tr>\n",
       "    <tr>\n",
       "      <th>maxamnt_loans90</th>\n",
       "      <td>6</td>\n",
       "      <td>12</td>\n",
       "      <td>6</td>\n",
       "      <td>6</td>\n",
       "      <td>6</td>\n",
       "    </tr>\n",
       "    <tr>\n",
       "      <th>medianamnt_loans90</th>\n",
       "      <td>0</td>\n",
       "      <td>0</td>\n",
       "      <td>0</td>\n",
       "      <td>0</td>\n",
       "      <td>0</td>\n",
       "    </tr>\n",
       "    <tr>\n",
       "      <th>payback30</th>\n",
       "      <td>29</td>\n",
       "      <td>0</td>\n",
       "      <td>0</td>\n",
       "      <td>0</td>\n",
       "      <td>2.33333</td>\n",
       "    </tr>\n",
       "    <tr>\n",
       "      <th>payback90</th>\n",
       "      <td>29</td>\n",
       "      <td>0</td>\n",
       "      <td>0</td>\n",
       "      <td>0</td>\n",
       "      <td>2.33333</td>\n",
       "    </tr>\n",
       "    <tr>\n",
       "      <th>pcircle</th>\n",
       "      <td>UPW</td>\n",
       "      <td>UPW</td>\n",
       "      <td>UPW</td>\n",
       "      <td>UPW</td>\n",
       "      <td>UPW</td>\n",
       "    </tr>\n",
       "    <tr>\n",
       "      <th>pdate</th>\n",
       "      <td>20-07-2016</td>\n",
       "      <td>10-08-2016</td>\n",
       "      <td>19-08-2016</td>\n",
       "      <td>06-06-2016</td>\n",
       "      <td>22-06-2016</td>\n",
       "    </tr>\n",
       "  </tbody>\n",
       "</table>\n",
       "</div>"
      ],
      "text/plain": [
       "                                0            1            2            3  \\\n",
       "label                           0            1            1            1   \n",
       "msisdn                21408I70789  76462I70374  17943I70372  55773I70781   \n",
       "aon                           272          712          535          241   \n",
       "daily_decr30              3055.05        12122         1398       21.228   \n",
       "daily_decr90              3065.15      12124.8         1398       21.228   \n",
       "rental30                   220.13      3691.26       900.13       159.42   \n",
       "rental90                   260.13      3691.26       900.13       159.42   \n",
       "last_rech_date_ma               2           20            3           41   \n",
       "last_rech_date_da               0            0            0            0   \n",
       "last_rech_amt_ma             1539         5787         1539          947   \n",
       "cnt_ma_rech30                   2            1            1            0   \n",
       "fr_ma_rech30                   21            0            0            0   \n",
       "sumamnt_ma_rech30            3078         5787         1539            0   \n",
       "medianamnt_ma_rech30         1539         5787         1539            0   \n",
       "medianmarechprebal30          7.5        61.04        66.32            0   \n",
       "cnt_ma_rech90                   2            1            1            1   \n",
       "fr_ma_rech90                   21            0            0            0   \n",
       "sumamnt_ma_rech90            3078         5787         1539          947   \n",
       "medianamnt_ma_rech90         1539         5787         1539          947   \n",
       "medianmarechprebal90          7.5        61.04        66.32          2.5   \n",
       "cnt_da_rech30                   0            0            0            0   \n",
       "fr_da_rech30                    0            0            0            0   \n",
       "cnt_da_rech90                   0            0            0            0   \n",
       "fr_da_rech90                    0            0            0            0   \n",
       "cnt_loans30                     2            1            1            2   \n",
       "amnt_loans30                   12           12            6           12   \n",
       "maxamnt_loans30                 6           12            6            6   \n",
       "medianamnt_loans30              0            0            0            0   \n",
       "cnt_loans90                     2            1            1            2   \n",
       "amnt_loans90                   12           12            6           12   \n",
       "maxamnt_loans90                 6           12            6            6   \n",
       "medianamnt_loans90              0            0            0            0   \n",
       "payback30                      29            0            0            0   \n",
       "payback90                      29            0            0            0   \n",
       "pcircle                       UPW          UPW          UPW          UPW   \n",
       "pdate                  20-07-2016   10-08-2016   19-08-2016   06-06-2016   \n",
       "\n",
       "                                4  \n",
       "label                           1  \n",
       "msisdn                03813I82730  \n",
       "aon                           947  \n",
       "daily_decr30              150.619  \n",
       "daily_decr90              150.619  \n",
       "rental30                   1098.9  \n",
       "rental90                   1098.9  \n",
       "last_rech_date_ma               4  \n",
       "last_rech_date_da               0  \n",
       "last_rech_amt_ma             2309  \n",
       "cnt_ma_rech30                   7  \n",
       "fr_ma_rech30                    2  \n",
       "sumamnt_ma_rech30           20029  \n",
       "medianamnt_ma_rech30         2309  \n",
       "medianmarechprebal30           29  \n",
       "cnt_ma_rech90                   8  \n",
       "fr_ma_rech90                    2  \n",
       "sumamnt_ma_rech90           23496  \n",
       "medianamnt_ma_rech90         2888  \n",
       "medianmarechprebal90           35  \n",
       "cnt_da_rech30                   0  \n",
       "fr_da_rech30                    0  \n",
       "cnt_da_rech90                   0  \n",
       "fr_da_rech90                    0  \n",
       "cnt_loans30                     7  \n",
       "amnt_loans30                   42  \n",
       "maxamnt_loans30                 6  \n",
       "medianamnt_loans30              0  \n",
       "cnt_loans90                     7  \n",
       "amnt_loans90                   42  \n",
       "maxamnt_loans90                 6  \n",
       "medianamnt_loans90              0  \n",
       "payback30                 2.33333  \n",
       "payback90                 2.33333  \n",
       "pcircle                       UPW  \n",
       "pdate                  22-06-2016  "
      ]
     },
     "execution_count": 4,
     "metadata": {},
     "output_type": "execute_result"
    }
   ],
   "source": [
    "df.head().T"
   ]
  },
  {
   "cell_type": "code",
   "execution_count": 5,
   "metadata": {},
   "outputs": [],
   "source": [
    "# unwanted columns - msisdn, pdate"
   ]
  },
  {
   "cell_type": "code",
   "execution_count": 6,
   "metadata": {
    "collapsed": true
   },
   "outputs": [
    {
     "data": {
      "text/html": [
       "<div>\n",
       "<style scoped>\n",
       "    .dataframe tbody tr th:only-of-type {\n",
       "        vertical-align: middle;\n",
       "    }\n",
       "\n",
       "    .dataframe tbody tr th {\n",
       "        vertical-align: top;\n",
       "    }\n",
       "\n",
       "    .dataframe thead th {\n",
       "        text-align: right;\n",
       "    }\n",
       "</style>\n",
       "<table border=\"1\" class=\"dataframe\">\n",
       "  <thead>\n",
       "    <tr style=\"text-align: right;\">\n",
       "      <th></th>\n",
       "      <th>count</th>\n",
       "      <th>mean</th>\n",
       "      <th>std</th>\n",
       "      <th>min</th>\n",
       "      <th>25%</th>\n",
       "      <th>50%</th>\n",
       "      <th>75%</th>\n",
       "      <th>max</th>\n",
       "    </tr>\n",
       "  </thead>\n",
       "  <tbody>\n",
       "    <tr>\n",
       "      <th>label</th>\n",
       "      <td>209593.0</td>\n",
       "      <td>0.875177</td>\n",
       "      <td>0.330519</td>\n",
       "      <td>0.000000</td>\n",
       "      <td>1.000</td>\n",
       "      <td>1.000000</td>\n",
       "      <td>1.00</td>\n",
       "      <td>1.000000</td>\n",
       "    </tr>\n",
       "    <tr>\n",
       "      <th>aon</th>\n",
       "      <td>209593.0</td>\n",
       "      <td>8112.343445</td>\n",
       "      <td>75696.082531</td>\n",
       "      <td>-48.000000</td>\n",
       "      <td>246.000</td>\n",
       "      <td>527.000000</td>\n",
       "      <td>982.00</td>\n",
       "      <td>999860.755200</td>\n",
       "    </tr>\n",
       "    <tr>\n",
       "      <th>daily_decr30</th>\n",
       "      <td>209593.0</td>\n",
       "      <td>5381.402289</td>\n",
       "      <td>9220.623400</td>\n",
       "      <td>-93.012667</td>\n",
       "      <td>42.440</td>\n",
       "      <td>1469.175667</td>\n",
       "      <td>7244.00</td>\n",
       "      <td>265926.000000</td>\n",
       "    </tr>\n",
       "    <tr>\n",
       "      <th>daily_decr90</th>\n",
       "      <td>209593.0</td>\n",
       "      <td>6082.515068</td>\n",
       "      <td>10918.812767</td>\n",
       "      <td>-93.012667</td>\n",
       "      <td>42.692</td>\n",
       "      <td>1500.000000</td>\n",
       "      <td>7802.79</td>\n",
       "      <td>320630.000000</td>\n",
       "    </tr>\n",
       "    <tr>\n",
       "      <th>rental30</th>\n",
       "      <td>209593.0</td>\n",
       "      <td>2692.581910</td>\n",
       "      <td>4308.586781</td>\n",
       "      <td>-23737.140000</td>\n",
       "      <td>280.420</td>\n",
       "      <td>1083.570000</td>\n",
       "      <td>3356.94</td>\n",
       "      <td>198926.110000</td>\n",
       "    </tr>\n",
       "    <tr>\n",
       "      <th>rental90</th>\n",
       "      <td>209593.0</td>\n",
       "      <td>3483.406534</td>\n",
       "      <td>5770.461279</td>\n",
       "      <td>-24720.580000</td>\n",
       "      <td>300.260</td>\n",
       "      <td>1334.000000</td>\n",
       "      <td>4201.79</td>\n",
       "      <td>200148.110000</td>\n",
       "    </tr>\n",
       "    <tr>\n",
       "      <th>last_rech_date_ma</th>\n",
       "      <td>209593.0</td>\n",
       "      <td>3755.847800</td>\n",
       "      <td>53905.892230</td>\n",
       "      <td>-29.000000</td>\n",
       "      <td>1.000</td>\n",
       "      <td>3.000000</td>\n",
       "      <td>7.00</td>\n",
       "      <td>998650.377700</td>\n",
       "    </tr>\n",
       "    <tr>\n",
       "      <th>last_rech_date_da</th>\n",
       "      <td>209593.0</td>\n",
       "      <td>3712.202921</td>\n",
       "      <td>53374.833430</td>\n",
       "      <td>-29.000000</td>\n",
       "      <td>0.000</td>\n",
       "      <td>0.000000</td>\n",
       "      <td>0.00</td>\n",
       "      <td>999171.809400</td>\n",
       "    </tr>\n",
       "    <tr>\n",
       "      <th>last_rech_amt_ma</th>\n",
       "      <td>209593.0</td>\n",
       "      <td>2064.452797</td>\n",
       "      <td>2370.786034</td>\n",
       "      <td>0.000000</td>\n",
       "      <td>770.000</td>\n",
       "      <td>1539.000000</td>\n",
       "      <td>2309.00</td>\n",
       "      <td>55000.000000</td>\n",
       "    </tr>\n",
       "    <tr>\n",
       "      <th>cnt_ma_rech30</th>\n",
       "      <td>209593.0</td>\n",
       "      <td>3.978057</td>\n",
       "      <td>4.256090</td>\n",
       "      <td>0.000000</td>\n",
       "      <td>1.000</td>\n",
       "      <td>3.000000</td>\n",
       "      <td>5.00</td>\n",
       "      <td>203.000000</td>\n",
       "    </tr>\n",
       "    <tr>\n",
       "      <th>fr_ma_rech30</th>\n",
       "      <td>209593.0</td>\n",
       "      <td>3737.355121</td>\n",
       "      <td>53643.625172</td>\n",
       "      <td>0.000000</td>\n",
       "      <td>0.000</td>\n",
       "      <td>2.000000</td>\n",
       "      <td>6.00</td>\n",
       "      <td>999606.368100</td>\n",
       "    </tr>\n",
       "    <tr>\n",
       "      <th>sumamnt_ma_rech30</th>\n",
       "      <td>209593.0</td>\n",
       "      <td>7704.501157</td>\n",
       "      <td>10139.621714</td>\n",
       "      <td>0.000000</td>\n",
       "      <td>1540.000</td>\n",
       "      <td>4628.000000</td>\n",
       "      <td>10010.00</td>\n",
       "      <td>810096.000000</td>\n",
       "    </tr>\n",
       "    <tr>\n",
       "      <th>medianamnt_ma_rech30</th>\n",
       "      <td>209593.0</td>\n",
       "      <td>1812.817952</td>\n",
       "      <td>2070.864620</td>\n",
       "      <td>0.000000</td>\n",
       "      <td>770.000</td>\n",
       "      <td>1539.000000</td>\n",
       "      <td>1924.00</td>\n",
       "      <td>55000.000000</td>\n",
       "    </tr>\n",
       "    <tr>\n",
       "      <th>medianmarechprebal30</th>\n",
       "      <td>209593.0</td>\n",
       "      <td>3851.927942</td>\n",
       "      <td>54006.374433</td>\n",
       "      <td>-200.000000</td>\n",
       "      <td>11.000</td>\n",
       "      <td>33.900000</td>\n",
       "      <td>83.00</td>\n",
       "      <td>999479.419300</td>\n",
       "    </tr>\n",
       "    <tr>\n",
       "      <th>cnt_ma_rech90</th>\n",
       "      <td>209593.0</td>\n",
       "      <td>6.315430</td>\n",
       "      <td>7.193470</td>\n",
       "      <td>0.000000</td>\n",
       "      <td>2.000</td>\n",
       "      <td>4.000000</td>\n",
       "      <td>8.00</td>\n",
       "      <td>336.000000</td>\n",
       "    </tr>\n",
       "    <tr>\n",
       "      <th>fr_ma_rech90</th>\n",
       "      <td>209593.0</td>\n",
       "      <td>7.716780</td>\n",
       "      <td>12.590251</td>\n",
       "      <td>0.000000</td>\n",
       "      <td>0.000</td>\n",
       "      <td>2.000000</td>\n",
       "      <td>8.00</td>\n",
       "      <td>88.000000</td>\n",
       "    </tr>\n",
       "    <tr>\n",
       "      <th>sumamnt_ma_rech90</th>\n",
       "      <td>209593.0</td>\n",
       "      <td>12396.218352</td>\n",
       "      <td>16857.793882</td>\n",
       "      <td>0.000000</td>\n",
       "      <td>2317.000</td>\n",
       "      <td>7226.000000</td>\n",
       "      <td>16000.00</td>\n",
       "      <td>953036.000000</td>\n",
       "    </tr>\n",
       "    <tr>\n",
       "      <th>medianamnt_ma_rech90</th>\n",
       "      <td>209593.0</td>\n",
       "      <td>1864.595821</td>\n",
       "      <td>2081.680664</td>\n",
       "      <td>0.000000</td>\n",
       "      <td>773.000</td>\n",
       "      <td>1539.000000</td>\n",
       "      <td>1924.00</td>\n",
       "      <td>55000.000000</td>\n",
       "    </tr>\n",
       "    <tr>\n",
       "      <th>medianmarechprebal90</th>\n",
       "      <td>209593.0</td>\n",
       "      <td>92.025541</td>\n",
       "      <td>369.215658</td>\n",
       "      <td>-200.000000</td>\n",
       "      <td>14.600</td>\n",
       "      <td>36.000000</td>\n",
       "      <td>79.31</td>\n",
       "      <td>41456.500000</td>\n",
       "    </tr>\n",
       "    <tr>\n",
       "      <th>cnt_da_rech30</th>\n",
       "      <td>209593.0</td>\n",
       "      <td>262.578110</td>\n",
       "      <td>4183.897978</td>\n",
       "      <td>0.000000</td>\n",
       "      <td>0.000</td>\n",
       "      <td>0.000000</td>\n",
       "      <td>0.00</td>\n",
       "      <td>99914.441420</td>\n",
       "    </tr>\n",
       "    <tr>\n",
       "      <th>fr_da_rech30</th>\n",
       "      <td>209593.0</td>\n",
       "      <td>3749.494447</td>\n",
       "      <td>53885.414979</td>\n",
       "      <td>0.000000</td>\n",
       "      <td>0.000</td>\n",
       "      <td>0.000000</td>\n",
       "      <td>0.00</td>\n",
       "      <td>999809.240100</td>\n",
       "    </tr>\n",
       "    <tr>\n",
       "      <th>cnt_da_rech90</th>\n",
       "      <td>209593.0</td>\n",
       "      <td>0.041495</td>\n",
       "      <td>0.397556</td>\n",
       "      <td>0.000000</td>\n",
       "      <td>0.000</td>\n",
       "      <td>0.000000</td>\n",
       "      <td>0.00</td>\n",
       "      <td>38.000000</td>\n",
       "    </tr>\n",
       "    <tr>\n",
       "      <th>fr_da_rech90</th>\n",
       "      <td>209593.0</td>\n",
       "      <td>0.045712</td>\n",
       "      <td>0.951386</td>\n",
       "      <td>0.000000</td>\n",
       "      <td>0.000</td>\n",
       "      <td>0.000000</td>\n",
       "      <td>0.00</td>\n",
       "      <td>64.000000</td>\n",
       "    </tr>\n",
       "    <tr>\n",
       "      <th>cnt_loans30</th>\n",
       "      <td>209593.0</td>\n",
       "      <td>2.758981</td>\n",
       "      <td>2.554502</td>\n",
       "      <td>0.000000</td>\n",
       "      <td>1.000</td>\n",
       "      <td>2.000000</td>\n",
       "      <td>4.00</td>\n",
       "      <td>50.000000</td>\n",
       "    </tr>\n",
       "    <tr>\n",
       "      <th>amnt_loans30</th>\n",
       "      <td>209593.0</td>\n",
       "      <td>17.952021</td>\n",
       "      <td>17.379741</td>\n",
       "      <td>0.000000</td>\n",
       "      <td>6.000</td>\n",
       "      <td>12.000000</td>\n",
       "      <td>24.00</td>\n",
       "      <td>306.000000</td>\n",
       "    </tr>\n",
       "    <tr>\n",
       "      <th>maxamnt_loans30</th>\n",
       "      <td>209593.0</td>\n",
       "      <td>274.658747</td>\n",
       "      <td>4245.264648</td>\n",
       "      <td>0.000000</td>\n",
       "      <td>6.000</td>\n",
       "      <td>6.000000</td>\n",
       "      <td>6.00</td>\n",
       "      <td>99864.560860</td>\n",
       "    </tr>\n",
       "    <tr>\n",
       "      <th>medianamnt_loans30</th>\n",
       "      <td>209593.0</td>\n",
       "      <td>0.054029</td>\n",
       "      <td>0.218039</td>\n",
       "      <td>0.000000</td>\n",
       "      <td>0.000</td>\n",
       "      <td>0.000000</td>\n",
       "      <td>0.00</td>\n",
       "      <td>3.000000</td>\n",
       "    </tr>\n",
       "    <tr>\n",
       "      <th>cnt_loans90</th>\n",
       "      <td>209593.0</td>\n",
       "      <td>18.520919</td>\n",
       "      <td>224.797423</td>\n",
       "      <td>0.000000</td>\n",
       "      <td>1.000</td>\n",
       "      <td>2.000000</td>\n",
       "      <td>5.00</td>\n",
       "      <td>4997.517944</td>\n",
       "    </tr>\n",
       "    <tr>\n",
       "      <th>amnt_loans90</th>\n",
       "      <td>209593.0</td>\n",
       "      <td>23.645398</td>\n",
       "      <td>26.469861</td>\n",
       "      <td>0.000000</td>\n",
       "      <td>6.000</td>\n",
       "      <td>12.000000</td>\n",
       "      <td>30.00</td>\n",
       "      <td>438.000000</td>\n",
       "    </tr>\n",
       "    <tr>\n",
       "      <th>maxamnt_loans90</th>\n",
       "      <td>209593.0</td>\n",
       "      <td>6.703134</td>\n",
       "      <td>2.103864</td>\n",
       "      <td>0.000000</td>\n",
       "      <td>6.000</td>\n",
       "      <td>6.000000</td>\n",
       "      <td>6.00</td>\n",
       "      <td>12.000000</td>\n",
       "    </tr>\n",
       "    <tr>\n",
       "      <th>medianamnt_loans90</th>\n",
       "      <td>209593.0</td>\n",
       "      <td>0.046077</td>\n",
       "      <td>0.200692</td>\n",
       "      <td>0.000000</td>\n",
       "      <td>0.000</td>\n",
       "      <td>0.000000</td>\n",
       "      <td>0.00</td>\n",
       "      <td>3.000000</td>\n",
       "    </tr>\n",
       "    <tr>\n",
       "      <th>payback30</th>\n",
       "      <td>209593.0</td>\n",
       "      <td>3.398826</td>\n",
       "      <td>8.813729</td>\n",
       "      <td>0.000000</td>\n",
       "      <td>0.000</td>\n",
       "      <td>0.000000</td>\n",
       "      <td>3.75</td>\n",
       "      <td>171.500000</td>\n",
       "    </tr>\n",
       "    <tr>\n",
       "      <th>payback90</th>\n",
       "      <td>209593.0</td>\n",
       "      <td>4.321485</td>\n",
       "      <td>10.308108</td>\n",
       "      <td>0.000000</td>\n",
       "      <td>0.000</td>\n",
       "      <td>1.666667</td>\n",
       "      <td>4.50</td>\n",
       "      <td>171.500000</td>\n",
       "    </tr>\n",
       "  </tbody>\n",
       "</table>\n",
       "</div>"
      ],
      "text/plain": [
       "                         count          mean           std           min  \\\n",
       "label                 209593.0      0.875177      0.330519      0.000000   \n",
       "aon                   209593.0   8112.343445  75696.082531    -48.000000   \n",
       "daily_decr30          209593.0   5381.402289   9220.623400    -93.012667   \n",
       "daily_decr90          209593.0   6082.515068  10918.812767    -93.012667   \n",
       "rental30              209593.0   2692.581910   4308.586781 -23737.140000   \n",
       "rental90              209593.0   3483.406534   5770.461279 -24720.580000   \n",
       "last_rech_date_ma     209593.0   3755.847800  53905.892230    -29.000000   \n",
       "last_rech_date_da     209593.0   3712.202921  53374.833430    -29.000000   \n",
       "last_rech_amt_ma      209593.0   2064.452797   2370.786034      0.000000   \n",
       "cnt_ma_rech30         209593.0      3.978057      4.256090      0.000000   \n",
       "fr_ma_rech30          209593.0   3737.355121  53643.625172      0.000000   \n",
       "sumamnt_ma_rech30     209593.0   7704.501157  10139.621714      0.000000   \n",
       "medianamnt_ma_rech30  209593.0   1812.817952   2070.864620      0.000000   \n",
       "medianmarechprebal30  209593.0   3851.927942  54006.374433   -200.000000   \n",
       "cnt_ma_rech90         209593.0      6.315430      7.193470      0.000000   \n",
       "fr_ma_rech90          209593.0      7.716780     12.590251      0.000000   \n",
       "sumamnt_ma_rech90     209593.0  12396.218352  16857.793882      0.000000   \n",
       "medianamnt_ma_rech90  209593.0   1864.595821   2081.680664      0.000000   \n",
       "medianmarechprebal90  209593.0     92.025541    369.215658   -200.000000   \n",
       "cnt_da_rech30         209593.0    262.578110   4183.897978      0.000000   \n",
       "fr_da_rech30          209593.0   3749.494447  53885.414979      0.000000   \n",
       "cnt_da_rech90         209593.0      0.041495      0.397556      0.000000   \n",
       "fr_da_rech90          209593.0      0.045712      0.951386      0.000000   \n",
       "cnt_loans30           209593.0      2.758981      2.554502      0.000000   \n",
       "amnt_loans30          209593.0     17.952021     17.379741      0.000000   \n",
       "maxamnt_loans30       209593.0    274.658747   4245.264648      0.000000   \n",
       "medianamnt_loans30    209593.0      0.054029      0.218039      0.000000   \n",
       "cnt_loans90           209593.0     18.520919    224.797423      0.000000   \n",
       "amnt_loans90          209593.0     23.645398     26.469861      0.000000   \n",
       "maxamnt_loans90       209593.0      6.703134      2.103864      0.000000   \n",
       "medianamnt_loans90    209593.0      0.046077      0.200692      0.000000   \n",
       "payback30             209593.0      3.398826      8.813729      0.000000   \n",
       "payback90             209593.0      4.321485     10.308108      0.000000   \n",
       "\n",
       "                           25%          50%       75%            max  \n",
       "label                    1.000     1.000000      1.00       1.000000  \n",
       "aon                    246.000   527.000000    982.00  999860.755200  \n",
       "daily_decr30            42.440  1469.175667   7244.00  265926.000000  \n",
       "daily_decr90            42.692  1500.000000   7802.79  320630.000000  \n",
       "rental30               280.420  1083.570000   3356.94  198926.110000  \n",
       "rental90               300.260  1334.000000   4201.79  200148.110000  \n",
       "last_rech_date_ma        1.000     3.000000      7.00  998650.377700  \n",
       "last_rech_date_da        0.000     0.000000      0.00  999171.809400  \n",
       "last_rech_amt_ma       770.000  1539.000000   2309.00   55000.000000  \n",
       "cnt_ma_rech30            1.000     3.000000      5.00     203.000000  \n",
       "fr_ma_rech30             0.000     2.000000      6.00  999606.368100  \n",
       "sumamnt_ma_rech30     1540.000  4628.000000  10010.00  810096.000000  \n",
       "medianamnt_ma_rech30   770.000  1539.000000   1924.00   55000.000000  \n",
       "medianmarechprebal30    11.000    33.900000     83.00  999479.419300  \n",
       "cnt_ma_rech90            2.000     4.000000      8.00     336.000000  \n",
       "fr_ma_rech90             0.000     2.000000      8.00      88.000000  \n",
       "sumamnt_ma_rech90     2317.000  7226.000000  16000.00  953036.000000  \n",
       "medianamnt_ma_rech90   773.000  1539.000000   1924.00   55000.000000  \n",
       "medianmarechprebal90    14.600    36.000000     79.31   41456.500000  \n",
       "cnt_da_rech30            0.000     0.000000      0.00   99914.441420  \n",
       "fr_da_rech30             0.000     0.000000      0.00  999809.240100  \n",
       "cnt_da_rech90            0.000     0.000000      0.00      38.000000  \n",
       "fr_da_rech90             0.000     0.000000      0.00      64.000000  \n",
       "cnt_loans30              1.000     2.000000      4.00      50.000000  \n",
       "amnt_loans30             6.000    12.000000     24.00     306.000000  \n",
       "maxamnt_loans30          6.000     6.000000      6.00   99864.560860  \n",
       "medianamnt_loans30       0.000     0.000000      0.00       3.000000  \n",
       "cnt_loans90              1.000     2.000000      5.00    4997.517944  \n",
       "amnt_loans90             6.000    12.000000     30.00     438.000000  \n",
       "maxamnt_loans90          6.000     6.000000      6.00      12.000000  \n",
       "medianamnt_loans90       0.000     0.000000      0.00       3.000000  \n",
       "payback30                0.000     0.000000      3.75     171.500000  \n",
       "payback90                0.000     1.666667      4.50     171.500000  "
      ]
     },
     "execution_count": 6,
     "metadata": {},
     "output_type": "execute_result"
    }
   ],
   "source": [
    "df.describe().T"
   ]
  },
  {
   "cell_type": "code",
   "execution_count": 7,
   "metadata": {},
   "outputs": [
    {
     "name": "stdout",
     "output_type": "stream",
     "text": [
      "<class 'pandas.core.frame.DataFrame'>\n",
      "RangeIndex: 209593 entries, 0 to 209592\n",
      "Data columns (total 36 columns):\n",
      " #   Column                Non-Null Count   Dtype  \n",
      "---  ------                --------------   -----  \n",
      " 0   label                 209593 non-null  int64  \n",
      " 1   msisdn                209593 non-null  object \n",
      " 2   aon                   209593 non-null  float64\n",
      " 3   daily_decr30          209593 non-null  float64\n",
      " 4   daily_decr90          209593 non-null  float64\n",
      " 5   rental30              209593 non-null  float64\n",
      " 6   rental90              209593 non-null  float64\n",
      " 7   last_rech_date_ma     209593 non-null  float64\n",
      " 8   last_rech_date_da     209593 non-null  float64\n",
      " 9   last_rech_amt_ma      209593 non-null  int64  \n",
      " 10  cnt_ma_rech30         209593 non-null  int64  \n",
      " 11  fr_ma_rech30          209593 non-null  float64\n",
      " 12  sumamnt_ma_rech30     209593 non-null  float64\n",
      " 13  medianamnt_ma_rech30  209593 non-null  float64\n",
      " 14  medianmarechprebal30  209593 non-null  float64\n",
      " 15  cnt_ma_rech90         209593 non-null  int64  \n",
      " 16  fr_ma_rech90          209593 non-null  int64  \n",
      " 17  sumamnt_ma_rech90     209593 non-null  int64  \n",
      " 18  medianamnt_ma_rech90  209593 non-null  float64\n",
      " 19  medianmarechprebal90  209593 non-null  float64\n",
      " 20  cnt_da_rech30         209593 non-null  float64\n",
      " 21  fr_da_rech30          209593 non-null  float64\n",
      " 22  cnt_da_rech90         209593 non-null  int64  \n",
      " 23  fr_da_rech90          209593 non-null  int64  \n",
      " 24  cnt_loans30           209593 non-null  int64  \n",
      " 25  amnt_loans30          209593 non-null  int64  \n",
      " 26  maxamnt_loans30       209593 non-null  float64\n",
      " 27  medianamnt_loans30    209593 non-null  float64\n",
      " 28  cnt_loans90           209593 non-null  float64\n",
      " 29  amnt_loans90          209593 non-null  int64  \n",
      " 30  maxamnt_loans90       209593 non-null  int64  \n",
      " 31  medianamnt_loans90    209593 non-null  float64\n",
      " 32  payback30             209593 non-null  float64\n",
      " 33  payback90             209593 non-null  float64\n",
      " 34  pcircle               209593 non-null  object \n",
      " 35  pdate                 209593 non-null  object \n",
      "dtypes: float64(21), int64(12), object(3)\n",
      "memory usage: 57.6+ MB\n"
     ]
    }
   ],
   "source": [
    "df.info()"
   ]
  },
  {
   "cell_type": "code",
   "execution_count": 8,
   "metadata": {
    "collapsed": true
   },
   "outputs": [
    {
     "data": {
      "text/plain": [
       "186243"
      ]
     },
     "execution_count": 8,
     "metadata": {},
     "output_type": "execute_result"
    }
   ],
   "source": [
    "len(df.msisdn.unique())"
   ]
  },
  {
   "cell_type": "code",
   "execution_count": 9,
   "metadata": {
    "collapsed": true
   },
   "outputs": [
    {
     "data": {
      "text/plain": [
       "1"
      ]
     },
     "execution_count": 9,
     "metadata": {},
     "output_type": "execute_result"
    }
   ],
   "source": [
    "len(df.pcircle.unique())"
   ]
  },
  {
   "cell_type": "code",
   "execution_count": 10,
   "metadata": {
    "collapsed": true
   },
   "outputs": [
    {
     "data": {
      "text/plain": [
       "array(['UPW'], dtype=object)"
      ]
     },
     "execution_count": 10,
     "metadata": {},
     "output_type": "execute_result"
    }
   ],
   "source": [
    "df.pcircle.unique()"
   ]
  },
  {
   "cell_type": "code",
   "execution_count": 11,
   "metadata": {
    "collapsed": true
   },
   "outputs": [
    {
     "data": {
      "text/plain": [
       "label                   -2.270254\n",
       "aon                     10.392949\n",
       "daily_decr30             3.946230\n",
       "daily_decr90             4.252565\n",
       "rental30                 4.521929\n",
       "rental90                 4.437681\n",
       "last_rech_date_ma       14.790974\n",
       "last_rech_date_da       14.814857\n",
       "last_rech_amt_ma         3.781149\n",
       "cnt_ma_rech30            3.283842\n",
       "fr_ma_rech30            14.772833\n",
       "sumamnt_ma_rech30        6.386787\n",
       "medianamnt_ma_rech30     3.512324\n",
       "medianmarechprebal30    14.779875\n",
       "cnt_ma_rech90            3.425254\n",
       "fr_ma_rech90             2.285423\n",
       "sumamnt_ma_rech90        4.897950\n",
       "medianamnt_ma_rech90     3.752706\n",
       "medianmarechprebal90    44.880503\n",
       "cnt_da_rech30           17.818364\n",
       "fr_da_rech30            14.776430\n",
       "cnt_da_rech90           27.267278\n",
       "fr_da_rech90            28.988083\n",
       "cnt_loans30              2.713421\n",
       "amnt_loans30             2.975719\n",
       "maxamnt_loans30         17.658052\n",
       "medianamnt_loans30       4.551043\n",
       "cnt_loans90             16.594408\n",
       "amnt_loans90             3.150006\n",
       "maxamnt_loans90          1.678304\n",
       "medianamnt_loans90       4.895720\n",
       "payback30                8.310695\n",
       "payback90                6.899951\n",
       "dtype: float64"
      ]
     },
     "execution_count": 11,
     "metadata": {},
     "output_type": "execute_result"
    }
   ],
   "source": [
    "df.skew()"
   ]
  },
  {
   "cell_type": "markdown",
   "metadata": {},
   "source": [
    "## 3. Data Cleaning"
   ]
  },
  {
   "cell_type": "code",
   "execution_count": 13,
   "metadata": {
    "collapsed": true
   },
   "outputs": [
    {
     "data": {
      "text/plain": [
       "1    0.875177\n",
       "0    0.124823\n",
       "Name: label, dtype: float64"
      ]
     },
     "execution_count": 13,
     "metadata": {},
     "output_type": "execute_result"
    }
   ],
   "source": [
    "df.label.value_counts(normalize=True)"
   ]
  },
  {
   "cell_type": "code",
   "execution_count": 17,
   "metadata": {
    "collapsed": true
   },
   "outputs": [
    {
     "data": {
      "text/plain": [
       "label                   0\n",
       "msisdn                  0\n",
       "aon                     0\n",
       "daily_decr30            0\n",
       "daily_decr90            0\n",
       "rental30                0\n",
       "rental90                0\n",
       "last_rech_date_ma       0\n",
       "last_rech_date_da       0\n",
       "last_rech_amt_ma        0\n",
       "cnt_ma_rech30           0\n",
       "fr_ma_rech30            0\n",
       "sumamnt_ma_rech30       0\n",
       "medianamnt_ma_rech30    0\n",
       "medianmarechprebal30    0\n",
       "cnt_ma_rech90           0\n",
       "fr_ma_rech90            0\n",
       "sumamnt_ma_rech90       0\n",
       "medianamnt_ma_rech90    0\n",
       "medianmarechprebal90    0\n",
       "cnt_da_rech30           0\n",
       "fr_da_rech30            0\n",
       "cnt_da_rech90           0\n",
       "fr_da_rech90            0\n",
       "cnt_loans30             0\n",
       "amnt_loans30            0\n",
       "maxamnt_loans30         0\n",
       "medianamnt_loans30      0\n",
       "cnt_loans90             0\n",
       "amnt_loans90            0\n",
       "maxamnt_loans90         0\n",
       "medianamnt_loans90      0\n",
       "payback30               0\n",
       "payback90               0\n",
       "pcircle                 0\n",
       "pdate                   0\n",
       "dtype: int64"
      ]
     },
     "execution_count": 17,
     "metadata": {},
     "output_type": "execute_result"
    }
   ],
   "source": [
    "# check for missing values\n",
    "df.isnull().sum()"
   ]
  },
  {
   "cell_type": "code",
   "execution_count": 18,
   "metadata": {},
   "outputs": [
    {
     "data": {
      "text/plain": [
       "1"
      ]
     },
     "execution_count": 18,
     "metadata": {},
     "output_type": "execute_result"
    }
   ],
   "source": [
    "# check for duplicated rows\n",
    "df.duplicated().sum()"
   ]
  },
  {
   "cell_type": "code",
   "execution_count": 19,
   "metadata": {},
   "outputs": [],
   "source": [
    "# droppping duplicates\n",
    "df.drop_duplicates(inplace=True)"
   ]
  },
  {
   "cell_type": "code",
   "execution_count": 20,
   "metadata": {},
   "outputs": [],
   "source": [
    "# drop unwanted columns\n",
    "df.drop([\"msisdn\",\"pdate\",'pcircle'],axis=1,inplace=True)"
   ]
  },
  {
   "cell_type": "code",
   "execution_count": 21,
   "metadata": {
    "collapsed": true
   },
   "outputs": [
    {
     "name": "stdout",
     "output_type": "stream",
     "text": [
      "<class 'pandas.core.frame.DataFrame'>\n",
      "Int64Index: 209592 entries, 0 to 209592\n",
      "Data columns (total 33 columns):\n",
      " #   Column                Non-Null Count   Dtype  \n",
      "---  ------                --------------   -----  \n",
      " 0   label                 209592 non-null  int64  \n",
      " 1   aon                   209592 non-null  float64\n",
      " 2   daily_decr30          209592 non-null  float64\n",
      " 3   daily_decr90          209592 non-null  float64\n",
      " 4   rental30              209592 non-null  float64\n",
      " 5   rental90              209592 non-null  float64\n",
      " 6   last_rech_date_ma     209592 non-null  float64\n",
      " 7   last_rech_date_da     209592 non-null  float64\n",
      " 8   last_rech_amt_ma      209592 non-null  int64  \n",
      " 9   cnt_ma_rech30         209592 non-null  int64  \n",
      " 10  fr_ma_rech30          209592 non-null  float64\n",
      " 11  sumamnt_ma_rech30     209592 non-null  float64\n",
      " 12  medianamnt_ma_rech30  209592 non-null  float64\n",
      " 13  medianmarechprebal30  209592 non-null  float64\n",
      " 14  cnt_ma_rech90         209592 non-null  int64  \n",
      " 15  fr_ma_rech90          209592 non-null  int64  \n",
      " 16  sumamnt_ma_rech90     209592 non-null  int64  \n",
      " 17  medianamnt_ma_rech90  209592 non-null  float64\n",
      " 18  medianmarechprebal90  209592 non-null  float64\n",
      " 19  cnt_da_rech30         209592 non-null  float64\n",
      " 20  fr_da_rech30          209592 non-null  float64\n",
      " 21  cnt_da_rech90         209592 non-null  int64  \n",
      " 22  fr_da_rech90          209592 non-null  int64  \n",
      " 23  cnt_loans30           209592 non-null  int64  \n",
      " 24  amnt_loans30          209592 non-null  int64  \n",
      " 25  maxamnt_loans30       209592 non-null  float64\n",
      " 26  medianamnt_loans30    209592 non-null  float64\n",
      " 27  cnt_loans90           209592 non-null  float64\n",
      " 28  amnt_loans90          209592 non-null  int64  \n",
      " 29  maxamnt_loans90       209592 non-null  int64  \n",
      " 30  medianamnt_loans90    209592 non-null  float64\n",
      " 31  payback30             209592 non-null  float64\n",
      " 32  payback90             209592 non-null  float64\n",
      "dtypes: float64(21), int64(12)\n",
      "memory usage: 54.4 MB\n"
     ]
    }
   ],
   "source": [
    "df.info()"
   ]
  },
  {
   "cell_type": "code",
   "execution_count": 22,
   "metadata": {},
   "outputs": [
    {
     "data": {
      "text/plain": [
       "(209592, 33)"
      ]
     },
     "execution_count": 22,
     "metadata": {},
     "output_type": "execute_result"
    }
   ],
   "source": [
    "df.shape"
   ]
  },
  {
   "cell_type": "code",
   "execution_count": 23,
   "metadata": {
    "collapsed": true
   },
   "outputs": [
    {
     "data": {
      "text/plain": [
       "label                   -2.270245\n",
       "aon                     10.392923\n",
       "daily_decr30             3.946219\n",
       "daily_decr90             4.252553\n",
       "rental30                 4.521921\n",
       "rental90                 4.437670\n",
       "last_rech_date_ma       14.790938\n",
       "last_rech_date_da       14.814821\n",
       "last_rech_amt_ma         3.781141\n",
       "cnt_ma_rech30            3.283838\n",
       "fr_ma_rech30            14.772797\n",
       "sumamnt_ma_rech30        6.386774\n",
       "medianamnt_ma_rech30     3.512314\n",
       "medianmarechprebal30    14.779840\n",
       "cnt_ma_rech90            3.425244\n",
       "fr_ma_rech90             2.285415\n",
       "sumamnt_ma_rech90        4.897937\n",
       "medianamnt_ma_rech90     3.752696\n",
       "medianmarechprebal90    44.880396\n",
       "cnt_da_rech30           17.818321\n",
       "fr_da_rech30            14.776395\n",
       "cnt_da_rech90           27.267213\n",
       "fr_da_rech90            28.988013\n",
       "cnt_loans30              2.713426\n",
       "amnt_loans30             2.975720\n",
       "maxamnt_loans30         17.658009\n",
       "medianamnt_loans30       4.551031\n",
       "cnt_loans90             16.594368\n",
       "amnt_loans90             3.149999\n",
       "maxamnt_loans90          1.678297\n",
       "medianamnt_loans90       4.895707\n",
       "payback30                8.311500\n",
       "payback90                6.900427\n",
       "dtype: float64"
      ]
     },
     "execution_count": 23,
     "metadata": {},
     "output_type": "execute_result"
    }
   ],
   "source": [
    "#check for outliers\n",
    "df.skew()"
   ]
  },
  {
   "cell_type": "code",
   "execution_count": 24,
   "metadata": {
    "collapsed": true
   },
   "outputs": [
    {
     "data": {
      "text/plain": [
       "999860.7552"
      ]
     },
     "execution_count": 24,
     "metadata": {},
     "output_type": "execute_result"
    }
   ],
   "source": [
    "df.aon.max()"
   ]
  },
  {
   "cell_type": "code",
   "execution_count": 30,
   "metadata": {},
   "outputs": [
    {
     "data": {
      "text/plain": [
       "2420.0899999999965"
      ]
     },
     "execution_count": 30,
     "metadata": {},
     "output_type": "execute_result"
    }
   ],
   "source": [
    "df.aon.quantile(0.99)"
   ]
  },
  {
   "cell_type": "code",
   "execution_count": 39,
   "metadata": {},
   "outputs": [
    {
     "data": {
      "text/plain": [
       "(207496, 33)"
      ]
     },
     "execution_count": 39,
     "metadata": {},
     "output_type": "execute_result"
    }
   ],
   "source": [
    "df2 = df[df.aon<df.aon.quantile(0.99)]\n",
    "df2.shape"
   ]
  },
  {
   "cell_type": "code",
   "execution_count": 40,
   "metadata": {
    "collapsed": true
   },
   "outputs": [
    {
     "data": {
      "text/plain": [
       "1    183430\n",
       "0     26162\n",
       "Name: label, dtype: int64"
      ]
     },
     "execution_count": 40,
     "metadata": {},
     "output_type": "execute_result"
    }
   ],
   "source": [
    "df.label.value_counts()"
   ]
  },
  {
   "cell_type": "code",
   "execution_count": 41,
   "metadata": {
    "collapsed": true
   },
   "outputs": [
    {
     "data": {
      "text/plain": [
       "1    181625\n",
       "0     25871\n",
       "Name: label, dtype: int64"
      ]
     },
     "execution_count": 41,
     "metadata": {},
     "output_type": "execute_result"
    }
   ],
   "source": [
    "df2.label.value_counts()"
   ]
  },
  {
   "cell_type": "code",
   "execution_count": 42,
   "metadata": {
    "collapsed": true
   },
   "outputs": [
    {
     "data": {
      "text/plain": [
       "label                   -2.272207\n",
       "aon                      0.944984\n",
       "daily_decr30             3.930636\n",
       "daily_decr90             4.249075\n",
       "rental30                 4.531733\n",
       "rental90                 4.442035\n",
       "last_rech_date_ma       14.795886\n",
       "last_rech_date_da       14.805897\n",
       "last_rech_amt_ma         3.757491\n",
       "cnt_ma_rech30            3.284978\n",
       "fr_ma_rech30            14.756316\n",
       "sumamnt_ma_rech30        6.393722\n",
       "medianamnt_ma_rech30     3.459655\n",
       "medianmarechprebal30    14.822187\n",
       "cnt_ma_rech90            3.431016\n",
       "fr_ma_rech90             2.288640\n",
       "sumamnt_ma_rech90        4.911325\n",
       "medianamnt_ma_rech90     3.705475\n",
       "medianmarechprebal90    44.935475\n",
       "cnt_da_rech30           17.860676\n",
       "fr_da_rech30            14.789794\n",
       "cnt_da_rech90           27.353295\n",
       "fr_da_rech90            29.258080\n",
       "cnt_loans30              2.703805\n",
       "amnt_loans30             2.965542\n",
       "maxamnt_loans30         17.622940\n",
       "medianamnt_loans30       4.555080\n",
       "cnt_loans90             16.597000\n",
       "amnt_loans90             3.151147\n",
       "maxamnt_loans90          1.679215\n",
       "medianamnt_loans90       4.898409\n",
       "payback30                8.301540\n",
       "payback90                6.888150\n",
       "dtype: float64"
      ]
     },
     "execution_count": 42,
     "metadata": {},
     "output_type": "execute_result"
    }
   ],
   "source": [
    "df2.skew()"
   ]
  },
  {
   "cell_type": "code",
   "execution_count": 44,
   "metadata": {
    "collapsed": true
   },
   "outputs": [
    {
     "name": "stdout",
     "output_type": "stream",
     "text": [
      "(207496, 33)\n",
      "(195345, 33)\n"
     ]
    }
   ],
   "source": [
    "print(df2.shape)\n",
    "for col in list(df2.columns):\n",
    "    df2 = df2[df2[col]>=0]\n",
    "print(df2.shape)"
   ]
  },
  {
   "cell_type": "code",
   "execution_count": 45,
   "metadata": {
    "collapsed": true
   },
   "outputs": [
    {
     "data": {
      "text/plain": [
       "1    172279\n",
       "0     23066\n",
       "Name: label, dtype: int64"
      ]
     },
     "execution_count": 45,
     "metadata": {},
     "output_type": "execute_result"
    }
   ],
   "source": [
    "df2.label.value_counts()"
   ]
  },
  {
   "cell_type": "code",
   "execution_count": 46,
   "metadata": {
    "collapsed": true
   },
   "outputs": [
    {
     "data": {
      "text/plain": [
       "label                   -2.367051\n",
       "aon                      0.961392\n",
       "daily_decr30             3.856837\n",
       "daily_decr90             4.167616\n",
       "rental30                 4.489944\n",
       "rental90                 4.386981\n",
       "last_rech_date_ma       14.649404\n",
       "last_rech_date_da       14.695652\n",
       "last_rech_amt_ma         3.848888\n",
       "cnt_ma_rech30            3.253983\n",
       "fr_ma_rech30            14.669947\n",
       "sumamnt_ma_rech30        3.886160\n",
       "medianamnt_ma_rech30     3.504610\n",
       "medianmarechprebal30    14.847234\n",
       "cnt_ma_rech90            3.393468\n",
       "fr_ma_rech90             2.306918\n",
       "sumamnt_ma_rech90        4.074531\n",
       "medianamnt_ma_rech90     3.713268\n",
       "medianmarechprebal90    45.547866\n",
       "cnt_da_rech30           17.783659\n",
       "fr_da_rech30            14.814224\n",
       "cnt_da_rech90           26.982398\n",
       "fr_da_rech90            28.009033\n",
       "cnt_loans30              2.663837\n",
       "amnt_loans30             2.923894\n",
       "maxamnt_loans30         17.617949\n",
       "medianamnt_loans30       4.591029\n",
       "cnt_loans90             16.654377\n",
       "amnt_loans90             3.092800\n",
       "maxamnt_loans90          1.617035\n",
       "medianamnt_loans90       4.963922\n",
       "payback30                8.204411\n",
       "payback90                6.796288\n",
       "dtype: float64"
      ]
     },
     "execution_count": 46,
     "metadata": {},
     "output_type": "execute_result"
    }
   ],
   "source": [
    "df2.skew()"
   ]
  },
  {
   "cell_type": "code",
   "execution_count": 53,
   "metadata": {
    "collapsed": true
   },
   "outputs": [
    {
     "data": {
      "text/plain": [
       "count    195345.000000\n",
       "mean       3826.649322\n",
       "std       54408.602560\n",
       "min           0.000000\n",
       "25%           1.000000\n",
       "50%           3.000000\n",
       "75%           7.000000\n",
       "max      998650.377700\n",
       "Name: last_rech_date_ma, dtype: float64"
      ]
     },
     "execution_count": 53,
     "metadata": {},
     "output_type": "execute_result"
    }
   ],
   "source": [
    "df2.last_rech_date_ma.describe()"
   ]
  },
  {
   "cell_type": "code",
   "execution_count": 63,
   "metadata": {},
   "outputs": [
    {
     "data": {
      "text/plain": [
       "109.74559999996563"
      ]
     },
     "execution_count": 63,
     "metadata": {},
     "output_type": "execute_result"
    }
   ],
   "source": [
    "df2.last_rech_date_ma.quantile(0.9949)"
   ]
  },
  {
   "cell_type": "code",
   "execution_count": 64,
   "metadata": {
    "collapsed": true
   },
   "outputs": [
    {
     "name": "stdout",
     "output_type": "stream",
     "text": [
      "(195345, 33)\n",
      "(194348, 33)\n"
     ]
    }
   ],
   "source": [
    "print(df2.shape)\n",
    "df2 = df2[df2.last_rech_date_ma<=df2.last_rech_date_ma.quantile(0.9949)]\n",
    "print(df2.shape)"
   ]
  },
  {
   "cell_type": "code",
   "execution_count": 65,
   "metadata": {},
   "outputs": [
    {
     "data": {
      "text/plain": [
       "1    171384\n",
       "0     22964\n",
       "Name: label, dtype: int64"
      ]
     },
     "execution_count": 65,
     "metadata": {},
     "output_type": "execute_result"
    }
   ],
   "source": [
    "df2.label.value_counts()"
   ]
  },
  {
   "cell_type": "code",
   "execution_count": 66,
   "metadata": {
    "collapsed": true
   },
   "outputs": [
    {
     "data": {
      "text/plain": [
       "label                   -2.365848\n",
       "aon                      0.961460\n",
       "daily_decr30             3.851298\n",
       "daily_decr90             4.167371\n",
       "rental30                 4.497021\n",
       "rental90                 4.392047\n",
       "last_rech_date_ma        3.597366\n",
       "last_rech_date_da       14.705459\n",
       "last_rech_amt_ma         3.857278\n",
       "cnt_ma_rech30            3.185605\n",
       "fr_ma_rech30            14.661012\n",
       "sumamnt_ma_rech30        3.884008\n",
       "medianamnt_ma_rech30     3.510273\n",
       "medianmarechprebal30    14.884645\n",
       "cnt_ma_rech90            3.381100\n",
       "fr_ma_rech90             2.306660\n",
       "sumamnt_ma_rech90        4.074186\n",
       "medianamnt_ma_rech90     3.719578\n",
       "medianmarechprebal90    45.538627\n",
       "cnt_da_rech30           17.748529\n",
       "fr_da_rech30            14.784109\n",
       "cnt_da_rech90           26.942945\n",
       "fr_da_rech90            27.955584\n",
       "cnt_loans30              2.659714\n",
       "amnt_loans30             2.913594\n",
       "maxamnt_loans30         17.636395\n",
       "medianamnt_loans30       4.590311\n",
       "cnt_loans90             16.658015\n",
       "amnt_loans90             3.088584\n",
       "maxamnt_loans90          1.617446\n",
       "medianamnt_loans90       4.964668\n",
       "payback30                8.207178\n",
       "payback90                6.801018\n",
       "dtype: float64"
      ]
     },
     "execution_count": 66,
     "metadata": {},
     "output_type": "execute_result"
    }
   ],
   "source": [
    "df2.skew()"
   ]
  },
  {
   "cell_type": "code",
   "execution_count": 78,
   "metadata": {},
   "outputs": [
    {
     "data": {
      "text/plain": [
       "5283.580500000913"
      ]
     },
     "execution_count": 78,
     "metadata": {},
     "output_type": "execute_result"
    }
   ],
   "source": [
    "df2.medianmarechprebal90.quantile(0.9995)"
   ]
  },
  {
   "cell_type": "code",
   "execution_count": 76,
   "metadata": {
    "collapsed": true
   },
   "outputs": [
    {
     "data": {
      "text/plain": [
       "41456.5"
      ]
     },
     "execution_count": 76,
     "metadata": {},
     "output_type": "execute_result"
    }
   ],
   "source": [
    "df2.medianmarechprebal90.max()"
   ]
  },
  {
   "cell_type": "code",
   "execution_count": 79,
   "metadata": {},
   "outputs": [
    {
     "name": "stdout",
     "output_type": "stream",
     "text": [
      "(194348, 33)\n"
     ]
    }
   ],
   "source": [
    "print(df2.shape)"
   ]
  },
  {
   "cell_type": "code",
   "execution_count": 80,
   "metadata": {},
   "outputs": [
    {
     "name": "stdout",
     "output_type": "stream",
     "text": [
      "(194250, 33)\n"
     ]
    }
   ],
   "source": [
    "df2 = df2[df2.medianmarechprebal90<=df2.medianmarechprebal90.quantile(0.9995)]\n",
    "print(df2.shape)"
   ]
  },
  {
   "cell_type": "code",
   "execution_count": 81,
   "metadata": {
    "collapsed": true
   },
   "outputs": [
    {
     "data": {
      "text/plain": [
       "label                   -2.366187\n",
       "aon                      0.961606\n",
       "daily_decr30             3.811753\n",
       "daily_decr90             4.145517\n",
       "rental30                 4.491935\n",
       "rental90                 4.392569\n",
       "last_rech_date_ma        3.601754\n",
       "last_rech_date_da       14.716121\n",
       "last_rech_amt_ma         3.856489\n",
       "cnt_ma_rech30            2.719742\n",
       "fr_ma_rech30            14.657264\n",
       "sumamnt_ma_rech30        3.828015\n",
       "medianamnt_ma_rech30     3.446270\n",
       "medianmarechprebal30    14.881240\n",
       "cnt_ma_rech90            2.953799\n",
       "fr_ma_rech90             2.306436\n",
       "sumamnt_ma_rech90        4.038081\n",
       "medianamnt_ma_rech90     3.642349\n",
       "medianmarechprebal90    10.035321\n",
       "cnt_da_rech30           17.757741\n",
       "fr_da_rech30            14.780330\n",
       "cnt_da_rech90           26.948226\n",
       "fr_da_rech90            28.059250\n",
       "cnt_loans30              2.659238\n",
       "amnt_loans30             2.913099\n",
       "maxamnt_loans30         17.631905\n",
       "medianamnt_loans30       4.591854\n",
       "cnt_loans90             16.662024\n",
       "amnt_loans90             3.087988\n",
       "maxamnt_loans90          1.618972\n",
       "medianamnt_loans90       4.966826\n",
       "payback30                8.205565\n",
       "payback90                6.800783\n",
       "dtype: float64"
      ]
     },
     "execution_count": 81,
     "metadata": {},
     "output_type": "execute_result"
    }
   ],
   "source": [
    "df2.skew()"
   ]
  },
  {
   "cell_type": "code",
   "execution_count": 82,
   "metadata": {},
   "outputs": [
    {
     "data": {
      "text/plain": [
       "64"
      ]
     },
     "execution_count": 82,
     "metadata": {},
     "output_type": "execute_result"
    }
   ],
   "source": [
    "df2.fr_da_rech90.max()"
   ]
  },
  {
   "cell_type": "code",
   "execution_count": 86,
   "metadata": {},
   "outputs": [
    {
     "data": {
      "text/plain": [
       "16.0"
      ]
     },
     "execution_count": 86,
     "metadata": {},
     "output_type": "execute_result"
    }
   ],
   "source": [
    "df2.fr_da_rech90.quantile(0.999)"
   ]
  },
  {
   "cell_type": "code",
   "execution_count": 87,
   "metadata": {
    "collapsed": true
   },
   "outputs": [
    {
     "name": "stdout",
     "output_type": "stream",
     "text": [
      "(194250, 33)\n",
      "(194063, 33)\n"
     ]
    }
   ],
   "source": [
    "print(df2.shape)\n",
    "df2 = df2[df2.fr_da_rech90<=df2.fr_da_rech90.quantile(0.999)]\n",
    "print(df2.shape)"
   ]
  },
  {
   "cell_type": "code",
   "execution_count": 88,
   "metadata": {
    "collapsed": true
   },
   "outputs": [
    {
     "data": {
      "text/plain": [
       "label                   -2.366946\n",
       "aon                      0.961682\n",
       "daily_decr30             3.814356\n",
       "daily_decr90             4.147703\n",
       "rental30                 4.496710\n",
       "rental90                 4.396851\n",
       "last_rech_date_ma        3.603384\n",
       "last_rech_date_da       14.717283\n",
       "last_rech_amt_ma         3.854173\n",
       "cnt_ma_rech30            2.720848\n",
       "fr_ma_rech30            14.650109\n",
       "sumamnt_ma_rech30        3.826910\n",
       "medianamnt_ma_rech30     3.434697\n",
       "medianmarechprebal30    14.881950\n",
       "cnt_ma_rech90            2.954542\n",
       "fr_ma_rech90             2.305638\n",
       "sumamnt_ma_rech90        4.039803\n",
       "medianamnt_ma_rech90     3.634339\n",
       "medianmarechprebal90    10.038194\n",
       "cnt_da_rech30           17.761835\n",
       "fr_da_rech30            14.788434\n",
       "cnt_da_rech90           28.138204\n",
       "fr_da_rech90            24.585016\n",
       "cnt_loans30              2.658988\n",
       "amnt_loans30             2.912641\n",
       "maxamnt_loans30         17.634117\n",
       "medianamnt_loans30       4.591793\n",
       "cnt_loans90             16.653925\n",
       "amnt_loans90             3.087668\n",
       "maxamnt_loans90          1.619672\n",
       "medianamnt_loans90       4.966765\n",
       "payback30                8.204455\n",
       "payback90                6.800673\n",
       "dtype: float64"
      ]
     },
     "execution_count": 88,
     "metadata": {},
     "output_type": "execute_result"
    }
   ],
   "source": [
    "df2.skew()"
   ]
  },
  {
   "cell_type": "code",
   "execution_count": 93,
   "metadata": {},
   "outputs": [
    {
     "data": {
      "text/plain": [
       "0.0"
      ]
     },
     "execution_count": 93,
     "metadata": {},
     "output_type": "execute_result"
    }
   ],
   "source": [
    "df2.fr_da_rech90.quantile(0.996)"
   ]
  },
  {
   "cell_type": "code",
   "execution_count": 98,
   "metadata": {},
   "outputs": [
    {
     "data": {
      "text/plain": [
       "0.0"
      ]
     },
     "execution_count": 98,
     "metadata": {},
     "output_type": "execute_result"
    }
   ],
   "source": [
    "df2.fr_da_rech30.quantile(0.992)"
   ]
  },
  {
   "cell_type": "code",
   "execution_count": 100,
   "metadata": {},
   "outputs": [
    {
     "data": {
      "text/plain": [
       "1    171147\n",
       "0     22916\n",
       "Name: label, dtype: int64"
      ]
     },
     "execution_count": 100,
     "metadata": {},
     "output_type": "execute_result"
    }
   ],
   "source": [
    "df2.label.value_counts()"
   ]
  },
  {
   "cell_type": "code",
   "execution_count": 110,
   "metadata": {},
   "outputs": [
    {
     "data": {
      "text/plain": [
       "4.0"
      ]
     },
     "execution_count": 110,
     "metadata": {},
     "output_type": "execute_result"
    }
   ],
   "source": [
    "df2.cnt_da_rech30.quantile(0.994)"
   ]
  },
  {
   "cell_type": "code",
   "execution_count": 114,
   "metadata": {},
   "outputs": [
    {
     "data": {
      "text/plain": [
       "5.0"
      ]
     },
     "execution_count": 114,
     "metadata": {},
     "output_type": "execute_result"
    }
   ],
   "source": [
    "df2.cnt_da_rech90.quantile(0.999)"
   ]
  },
  {
   "cell_type": "code",
   "execution_count": 103,
   "metadata": {},
   "outputs": [
    {
     "data": {
      "text/plain": [
       "99914.44142"
      ]
     },
     "execution_count": 103,
     "metadata": {},
     "output_type": "execute_result"
    }
   ],
   "source": [
    "df2.cnt_da_rech30.max()"
   ]
  },
  {
   "cell_type": "code",
   "execution_count": null,
   "metadata": {},
   "outputs": [],
   "source": []
  }
 ],
 "metadata": {
  "kernelspec": {
   "display_name": "Python 3",
   "language": "python",
   "name": "python3"
  },
  "language_info": {
   "codemirror_mode": {
    "name": "ipython",
    "version": 3
   },
   "file_extension": ".py",
   "mimetype": "text/x-python",
   "name": "python",
   "nbconvert_exporter": "python",
   "pygments_lexer": "ipython3",
   "version": "3.7.4"
  },
  "latex_envs": {
   "LaTeX_envs_menu_present": true,
   "autoclose": false,
   "autocomplete": true,
   "bibliofile": "biblio.bib",
   "cite_by": "apalike",
   "current_citInitial": 1,
   "eqLabelWithNumbers": true,
   "eqNumInitial": 1,
   "hotkeys": {
    "equation": "Ctrl-E",
    "itemize": "Ctrl-I"
   },
   "labels_anchors": false,
   "latex_user_defs": false,
   "report_style_numbering": false,
   "user_envs_cfg": false
  }
 },
 "nbformat": 4,
 "nbformat_minor": 2
}
