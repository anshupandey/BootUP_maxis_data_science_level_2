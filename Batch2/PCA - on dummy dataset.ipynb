{
 "cells": [
  {
   "cell_type": "markdown",
   "metadata": {},
   "source": [
    "# Principal Component Analysis"
   ]
  },
  {
   "cell_type": "code",
   "execution_count": 1,
   "metadata": {},
   "outputs": [],
   "source": [
    "import numpy as np\n",
    "import matplotlib.pyplot as plt\n",
    "import seaborn as sns\n"
   ]
  },
  {
   "cell_type": "code",
   "execution_count": 7,
   "metadata": {
    "collapsed": true
   },
   "outputs": [
    {
     "data": {
      "image/png": "[encoded data removed]",
      "text/plain": [
       "<Figure size 432x288 with 1 Axes>"
      ]
     },
     "metadata": {
      "needs_background": "light"
     },
     "output_type": "display_data"
    }
   ],
   "source": [
    "np.random.seed(8)\n",
    "x1 = np.random.randint(20,100,30)\n",
    "x2 = 1.8*np.random.randint(2,12,30)+0.6*x1\n",
    "\n",
    "plt.scatter(x1,x2)\n",
    "plt.show()"
   ]
  },
  {
   "cell_type": "code",
   "execution_count": 13,
   "metadata": {},
   "outputs": [
    {
     "data": {
      "text/plain": [
       "(30, 2)"
      ]
     },
     "execution_count": 13,
     "metadata": {},
     "output_type": "execute_result"
    }
   ],
   "source": [
    "data = np.concatenate([[x1],[x2]])\n",
    "data = data.T\n",
    "data.shape"
   ]
  },
  {
   "cell_type": "markdown",
   "metadata": {},
   "source": [
    "### Applying PCA"
   ]
  },
  {
   "cell_type": "code",
   "execution_count": 14,
   "metadata": {},
   "outputs": [
    {
     "data": {
      "text/plain": [
       "PCA(n_components=1)"
      ]
     },
     "execution_count": 14,
     "metadata": {},
     "output_type": "execute_result"
    }
   ],
   "source": [
    "from sklearn.decomposition import PCA\n",
    "model = PCA(n_components=1)\n",
    "model.fit(data)"
   ]
  },
  {
   "cell_type": "code",
   "execution_count": 15,
   "metadata": {},
   "outputs": [
    {
     "data": {
      "text/plain": [
       "(30, 1)"
      ]
     },
     "execution_count": 15,
     "metadata": {},
     "output_type": "execute_result"
    }
   ],
   "source": [
    "data2 = model.transform(data)\n",
    "data2.shape"
   ]
  },
  {
   "cell_type": "code",
   "execution_count": 16,
   "metadata": {},
   "outputs": [
    {
     "name": "stdout",
     "output_type": "stream",
     "text": [
      "[0.9803722]\n"
     ]
    }
   ],
   "source": [
    "print(model.explained_variance_ratio_)"
   ]
  },
  {
   "cell_type": "code",
   "execution_count": 18,
   "metadata": {},
   "outputs": [
    {
     "data": {
      "text/plain": [
       "(30, 2)"
      ]
     },
     "execution_count": 18,
     "metadata": {},
     "output_type": "execute_result"
    }
   ],
   "source": [
    "data3 = model.inverse_transform(data2)\n",
    "data3.shape"
   ]
  },
  {
   "cell_type": "code",
   "execution_count": 19,
   "metadata": {},
   "outputs": [
    {
     "data": {
      "text/plain": [
       "array([[87. , 66.6],\n",
       "       [25. , 25.8],\n",
       "       [28. , 29.4],\n",
       "       [83. , 67.8],\n",
       "       [68. , 44.4],\n",
       "       [80. , 64.2],\n",
       "       [69. , 48.6],\n",
       "       [94. , 70.8],\n",
       "       [47. , 44.4],\n",
       "       [33. , 30.6],\n",
       "       [29. , 35.4],\n",
       "       [81. , 68.4],\n",
       "       [35. , 35.4],\n",
       "       [79. , 58.2],\n",
       "       [38. , 35.4],\n",
       "       [34. , 27.6],\n",
       "       [76. , 52.8],\n",
       "       [29. , 31.8],\n",
       "       [71. , 57. ],\n",
       "       [88. , 67.2],\n",
       "       [73. , 60. ],\n",
       "       [73. , 63.6],\n",
       "       [91. , 69. ],\n",
       "       [79. , 51. ],\n",
       "       [62. , 57. ],\n",
       "       [46. , 34.8],\n",
       "       [86. , 67.8],\n",
       "       [29. , 37.2],\n",
       "       [35. , 28.2],\n",
       "       [83. , 64.2]])"
      ]
     },
     "execution_count": 19,
     "metadata": {},
     "output_type": "execute_result"
    }
   ],
   "source": [
    "data"
   ]
  },
  {
   "cell_type": "code",
   "execution_count": 20,
   "metadata": {},
   "outputs": [
    {
     "data": {
      "text/plain": [
       "array([[87.06986982, 66.49087749],\n",
       "       [24.56936496, 26.47256477],\n",
       "       [28.33188602, 28.88166121],\n",
       "       [84.77786501, 65.0233347 ],\n",
       "       [63.5130388 , 51.40772524],\n",
       "       [81.01534395, 62.61423825],\n",
       "       [66.12955745, 53.08305029],\n",
       "       [93.94180266, 70.89089246],\n",
       "       [48.61908912, 41.87131049],\n",
       "       [32.4230025 , 31.50115331],\n",
       "       [31.76581164, 31.080362  ],\n",
       "       [83.6318626 , 64.2895633 ],\n",
       "       [36.02122584, 33.80505193],\n",
       "       [77.58141833, 60.41553746],\n",
       "       [38.14893294, 35.1673969 ],\n",
       "       [31.76989324, 31.0829754 ],\n",
       "       [73.00149029, 57.48306527],\n",
       "       [30.13099769, 30.03361052],\n",
       "       [71.36259475, 56.43370039],\n",
       "       [88.05157451, 67.11945105],\n",
       "       [74.14341111, 58.21422327],\n",
       "       [75.77822507, 59.26097475],\n",
       "       [90.99668859, 69.00517176],\n",
       "       [74.31179041, 58.32203449],\n",
       "       [64.97947346, 52.3466655 ],\n",
       "       [43.55034954, 38.62585822],\n",
       "       [86.9055721 , 66.38567966],\n",
       "       [32.58321862, 31.60373775],\n",
       "       [32.75159793, 31.71154897],\n",
       "       [83.14305105, 63.97658321]])"
      ]
     },
     "execution_count": 20,
     "metadata": {},
     "output_type": "execute_result"
    }
   ],
   "source": [
    "data3"
   ]
  },
  {
   "cell_type": "code",
   "execution_count": null,
   "metadata": {},
   "outputs": [],
   "source": []
  }
 ],
 "metadata": {
  "kernelspec": {
   "display_name": "Python 3",
   "language": "python",
   "name": "python3"
  },
  "language_info": {
   "codemirror_mode": {
    "name": "ipython",
    "version": 3
   },
   "file_extension": ".py",
   "mimetype": "text/x-python",
   "name": "python",
   "nbconvert_exporter": "python",
   "pygments_lexer": "ipython3",
   "version": "3.7.4"
  },
  "latex_envs": {
   "LaTeX_envs_menu_present": true,
   "autoclose": false,
   "autocomplete": true,
   "bibliofile": "biblio.bib",
   "cite_by": "apalike",
   "current_citInitial": 1,
   "eqLabelWithNumbers": true,
   "eqNumInitial": 1,
   "hotkeys": {
    "equation": "Ctrl-E",
    "itemize": "Ctrl-I"
   },
   "labels_anchors": false,
   "latex_user_defs": false,
   "report_style_numbering": false,
   "user_envs_cfg": false
  }
 },
 "nbformat": 4,
 "nbformat_minor": 2
}
